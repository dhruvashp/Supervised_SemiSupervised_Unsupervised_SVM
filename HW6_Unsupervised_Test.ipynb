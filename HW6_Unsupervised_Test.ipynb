{
 "cells": [
  {
   "cell_type": "markdown",
   "metadata": {},
   "source": [
    "Again we perform \n",
    "A, B, C of the unsupervised portion for a single run (single, random Monte-Carlo iteration) before performing it for M=30 iterations\n",
    "\n",
    "\n",
    "NOTE : It hasn't been asked to normalize the data here, so we'll go with the raw data, the raw features as given originally"
   ]
  },
  {
   "cell_type": "code",
   "execution_count": 595,
   "metadata": {},
   "outputs": [
    {
     "name": "stdout",
     "output_type": "stream",
     "text": [
      "        X1     X2      X3      X4       X5       X6       X7       X8      X9  \\\n",
      "0    17.99  10.38  122.80  1001.0  0.11840  0.27760  0.30010  0.14710  0.2419   \n",
      "1    20.57  17.77  132.90  1326.0  0.08474  0.07864  0.08690  0.07017  0.1812   \n",
      "2    19.69  21.25  130.00  1203.0  0.10960  0.15990  0.19740  0.12790  0.2069   \n",
      "3    11.42  20.38   77.58   386.1  0.14250  0.28390  0.24140  0.10520  0.2597   \n",
      "4    20.29  14.34  135.10  1297.0  0.10030  0.13280  0.19800  0.10430  0.1809   \n",
      "..     ...    ...     ...     ...      ...      ...      ...      ...     ...   \n",
      "564  21.56  22.39  142.00  1479.0  0.11100  0.11590  0.24390  0.13890  0.1726   \n",
      "565  20.13  28.25  131.20  1261.0  0.09780  0.10340  0.14400  0.09791  0.1752   \n",
      "566  16.60  28.08  108.30   858.1  0.08455  0.10230  0.09251  0.05302  0.1590   \n",
      "567  20.60  29.33  140.10  1265.0  0.11780  0.27700  0.35140  0.15200  0.2397   \n",
      "568   7.76  24.54   47.92   181.0  0.05263  0.04362  0.00000  0.00000  0.1587   \n",
      "\n",
      "         X10  ...    X22     X23     X24      X25      X26     X27     X28  \\\n",
      "0    0.07871  ...  17.33  184.60  2019.0  0.16220  0.66560  0.7119  0.2654   \n",
      "1    0.05667  ...  23.41  158.80  1956.0  0.12380  0.18660  0.2416  0.1860   \n",
      "2    0.05999  ...  25.53  152.50  1709.0  0.14440  0.42450  0.4504  0.2430   \n",
      "3    0.09744  ...  26.50   98.87   567.7  0.20980  0.86630  0.6869  0.2575   \n",
      "4    0.05883  ...  16.67  152.20  1575.0  0.13740  0.20500  0.4000  0.1625   \n",
      "..       ...  ...    ...     ...     ...      ...      ...     ...     ...   \n",
      "564  0.05623  ...  26.40  166.10  2027.0  0.14100  0.21130  0.4107  0.2216   \n",
      "565  0.05533  ...  38.25  155.00  1731.0  0.11660  0.19220  0.3215  0.1628   \n",
      "566  0.05648  ...  34.12  126.70  1124.0  0.11390  0.30940  0.3403  0.1418   \n",
      "567  0.07016  ...  39.42  184.60  1821.0  0.16500  0.86810  0.9387  0.2650   \n",
      "568  0.05884  ...  30.37   59.16   268.6  0.08996  0.06444  0.0000  0.0000   \n",
      "\n",
      "        X29      X30  y  \n",
      "0    0.4601  0.11890  1  \n",
      "1    0.2750  0.08902  1  \n",
      "2    0.3613  0.08758  1  \n",
      "3    0.6638  0.17300  1  \n",
      "4    0.2364  0.07678  1  \n",
      "..      ...      ... ..  \n",
      "564  0.2060  0.07115  1  \n",
      "565  0.2572  0.06637  1  \n",
      "566  0.2218  0.07820  1  \n",
      "567  0.4087  0.12400  1  \n",
      "568  0.2871  0.07039  0  \n",
      "\n",
      "[569 rows x 31 columns]\n"
     ]
    },
    {
     "name": "stderr",
     "output_type": "stream",
     "text": [
      "C:\\Users\\DHRUV\\anaconda3\\lib\\site-packages\\pandas\\core\\indexing.py:670: SettingWithCopyWarning: \n",
      "A value is trying to be set on a copy of a slice from a DataFrame\n",
      "\n",
      "See the caveats in the documentation: https://pandas.pydata.org/pandas-docs/stable/user_guide/indexing.html#returning-a-view-versus-a-copy\n",
      "  self._setitem_with_indexer(indexer, value)\n"
     ]
    }
   ],
   "source": [
    "import pandas as pd\n",
    "import numpy as np\n",
    "\n",
    "df = pd.read_csv('wdbc.csv', header = None)\n",
    "\n",
    "\n",
    "output = df.iloc[:,0]\n",
    "\n",
    "\n",
    "for i in np.arange(0,df.shape[0]):\n",
    "    if output.iloc[i] == 'B':\n",
    "        output.iloc[i] = 0\n",
    "    else:\n",
    "        output.iloc[i] = 1\n",
    "\n",
    "\n",
    "\n",
    "features = df.iloc[:,1:]\n",
    "\n",
    "whole = pd.concat([features,output],axis=1)   # Raw features used, normalization not asked for in the question\n",
    "\n",
    "whole.columns= ['X1','X2','X3','X4','X5','X6','X7','X8','X9','X10','X11','X12','X13','X14','X15','X16','X17','X18','X19','X20','X21','X22','X23','X24','X25','X26','X27','X28','X29','X30','y']\n",
    "\n",
    "print(whole)"
   ]
  },
  {
   "cell_type": "markdown",
   "metadata": {},
   "source": [
    "As can be seen above, the features have been kept as is and haven't been normalized. This wasn't asked in the question and thus has been skipped."
   ]
  },
  {
   "cell_type": "code",
   "execution_count": 596,
   "metadata": {},
   "outputs": [
    {
     "name": "stdout",
     "output_type": "stream",
     "text": [
      "        X1     X2      X3     X4       X5       X6       X7       X8      X9  \\\n",
      "0    12.89  15.70   84.08  516.6  0.07818  0.09580  0.11150  0.03390  0.1432   \n",
      "1    15.19  13.21   97.65  711.8  0.07963  0.06934  0.03393  0.02657  0.1721   \n",
      "2    12.21  18.02   78.31  458.4  0.09231  0.07175  0.04392  0.02027  0.1695   \n",
      "3    13.40  16.95   85.48  552.4  0.07937  0.05696  0.02181  0.01473  0.1650   \n",
      "4    16.50  18.29  106.60  838.1  0.09686  0.08468  0.05862  0.04835  0.1495   \n",
      "..     ...    ...     ...    ...      ...      ...      ...      ...     ...   \n",
      "352  11.89  18.35   77.32  432.2  0.09363  0.11540  0.06636  0.03142  0.1967   \n",
      "353   8.95  15.76   58.74  245.2  0.09462  0.12430  0.09263  0.02308  0.1305   \n",
      "354  12.00  15.65   76.95  443.3  0.09723  0.07165  0.04151  0.01863  0.2079   \n",
      "355  11.41  10.82   73.34  403.3  0.09373  0.06685  0.03512  0.02623  0.1667   \n",
      "356  14.62  24.02   94.57  662.7  0.08974  0.08606  0.03102  0.02957  0.1685   \n",
      "\n",
      "         X10  ...    X22     X23     X24      X25     X26      X27      X28  \\\n",
      "0    0.05935  ...  19.69   92.12   595.6  0.09926  0.2317  0.33440  0.10170   \n",
      "1    0.05544  ...  15.73  104.50   819.1  0.11260  0.1737  0.13620  0.08178   \n",
      "2    0.05916  ...  24.04   93.85   624.6  0.13680  0.2170  0.24130  0.08829   \n",
      "3    0.05701  ...  21.70   93.76   663.5  0.12130  0.1676  0.13640  0.06987   \n",
      "4    0.05593  ...  25.45  117.20  1009.0  0.13380  0.1679  0.16630  0.09123   \n",
      "..       ...  ...    ...     ...     ...      ...     ...      ...      ...   \n",
      "352  0.06314  ...  27.10   86.20   531.2  0.14050  0.3046  0.28060  0.11380   \n",
      "353  0.07163  ...  17.07   63.34   270.0  0.11790  0.1879  0.15440  0.03846   \n",
      "354  0.05968  ...  24.90   87.78   567.9  0.13770  0.2003  0.22670  0.07632   \n",
      "355  0.06113  ...  15.97   83.74   510.5  0.15480  0.2390  0.21020  0.08958   \n",
      "356  0.05866  ...  29.11  102.90   803.7  0.11150  0.1766  0.09189  0.06946   \n",
      "\n",
      "        X29      X30  y  \n",
      "0    0.1999  0.07127  0  \n",
      "1    0.2487  0.06766  0  \n",
      "2    0.3218  0.07470  0  \n",
      "3    0.2741  0.07582  0  \n",
      "4    0.2394  0.06469  0  \n",
      "..      ...      ... ..  \n",
      "352  0.3397  0.08365  0  \n",
      "353  0.1652  0.07722  0  \n",
      "354  0.3379  0.07924  0  \n",
      "355  0.3016  0.08523  0  \n",
      "356  0.2522  0.07246  0  \n",
      "\n",
      "[357 rows x 31 columns]\n",
      "        X1     X2      X3      X4       X5       X6       X7       X8      X9  \\\n",
      "0    21.10  20.52  138.10  1384.0  0.09684  0.11750  0.15720  0.11550  0.1554   \n",
      "1    15.37  22.76  100.20   728.2  0.09200  0.10360  0.11220  0.07483  0.1717   \n",
      "2    19.59  25.00  127.70  1191.0  0.10320  0.09871  0.16550  0.09063  0.1663   \n",
      "3    14.78  23.94   97.40   668.3  0.11720  0.14790  0.12670  0.09029  0.1953   \n",
      "4    18.05  16.15  120.20  1006.0  0.10650  0.21460  0.16840  0.10800  0.2152   \n",
      "..     ...    ...     ...     ...      ...      ...      ...      ...     ...   \n",
      "207  11.80  16.58   78.99   432.0  0.10910  0.17000  0.16590  0.07415  0.2678   \n",
      "208  11.08  18.83   73.30   361.6  0.12160  0.21540  0.16890  0.06367  0.2196   \n",
      "209  16.11  18.05  105.10   813.0  0.09721  0.11370  0.09447  0.05943  0.1861   \n",
      "210  14.95  17.57   96.85   678.1  0.11670  0.13050  0.15390  0.08624  0.1957   \n",
      "211  17.99  10.38  122.80  1001.0  0.11840  0.27760  0.30010  0.14710  0.2419   \n",
      "\n",
      "         X10  ...    X22     X23     X24     X25     X26     X27     X28  \\\n",
      "0    0.05661  ...  32.07  168.20  2022.0  0.1368  0.3101  0.4399  0.2280   \n",
      "1    0.06097  ...  25.84  107.50   830.9  0.1257  0.1997  0.2846  0.1476   \n",
      "2    0.05391  ...  30.96  139.80  1421.0  0.1528  0.1845  0.3977  0.1466   \n",
      "3    0.06654  ...  33.39  114.60   925.1  0.1648  0.3416  0.3024  0.1614   \n",
      "4    0.06673  ...  18.91  150.10  1610.0  0.1478  0.5634  0.3786  0.2102   \n",
      "..       ...  ...    ...     ...     ...     ...     ...     ...     ...   \n",
      "207  0.07371  ...  26.38   91.93   591.7  0.1385  0.4092  0.4504  0.1865   \n",
      "208  0.07950  ...  32.82   91.76   508.1  0.2184  0.9379  0.8402  0.2524   \n",
      "209  0.06248  ...  25.27  129.00  1233.0  0.1314  0.2236  0.2802  0.1216   \n",
      "210  0.06216  ...  21.43  121.40   971.4  0.1411  0.2164  0.3355  0.1667   \n",
      "211  0.07871  ...  17.33  184.60  2019.0  0.1622  0.6656  0.7119  0.2654   \n",
      "\n",
      "        X29      X30  y  \n",
      "0    0.2268  0.07425  1  \n",
      "1    0.2556  0.06828  1  \n",
      "2    0.2293  0.06091  1  \n",
      "3    0.3321  0.08911  1  \n",
      "4    0.3751  0.11080  1  \n",
      "..      ...      ... ..  \n",
      "207  0.5774  0.10300  1  \n",
      "208  0.4154  0.14030  1  \n",
      "209  0.2792  0.08158  1  \n",
      "210  0.3414  0.07147  1  \n",
      "211  0.4601  0.11890  1  \n",
      "\n",
      "[212 rows x 31 columns]\n"
     ]
    }
   ],
   "source": [
    "whole.sort_values(by=['y'],inplace=True)\n",
    "whole.reset_index(drop=True,inplace=True)\n",
    "X_y_0 = whole.iloc[0:357,:]\n",
    "X_y_1 = whole.iloc[357:569,:]\n",
    "X_y_1.reset_index(drop=True,inplace=True)\n",
    "print(X_y_0)             \n",
    "print(X_y_1)\n",
    "# Only 0 and 1 portions of the entire dataset, to obtain the required test proportions"
   ]
  },
  {
   "cell_type": "code",
   "execution_count": 597,
   "metadata": {},
   "outputs": [
    {
     "name": "stdout",
     "output_type": "stream",
     "text": [
      "         X1     X2      X3      X4       X5       X6        X7        X8  \\\n",
      "0     9.465  21.01   60.11   269.4  0.10440  0.07773  0.021720  0.015040   \n",
      "1    13.210  25.25   84.10   537.9  0.08791  0.05205  0.027720  0.020680   \n",
      "2    12.680  23.84   82.69   499.0  0.11220  0.12620  0.112800  0.068730   \n",
      "3    17.570  15.05  115.00   955.1  0.09847  0.11570  0.098750  0.079530   \n",
      "4    14.220  23.12   94.37   609.9  0.10750  0.24130  0.198100  0.066180   \n",
      "..      ...    ...     ...     ...      ...      ...       ...       ...   \n",
      "449  11.220  33.81   70.79   386.8  0.07780  0.03574  0.004967  0.006434   \n",
      "450  17.050  19.08  113.40   895.0  0.11410  0.15720  0.191000  0.109000   \n",
      "451   9.738  11.97   61.24   288.5  0.09250  0.04102  0.000000  0.000000   \n",
      "452  11.990  24.89   77.61   441.3  0.10300  0.09218  0.054410  0.042740   \n",
      "453  20.920  25.09  143.00  1347.0  0.10990  0.22360  0.317400  0.147400   \n",
      "\n",
      "         X9      X10  ...    X21    X22     X23     X24      X25      X26  \\\n",
      "0    0.1717  0.06899  ...  10.41  31.56   67.03   330.7  0.15480  0.16640   \n",
      "1    0.1619  0.05584  ...  14.35  34.23   91.29   632.9  0.12890  0.10630   \n",
      "2    0.1905  0.06590  ...  17.09  33.47  111.80   888.3  0.18510  0.40610   \n",
      "3    0.1739  0.06149  ...  20.01  19.52  134.90  1227.0  0.12550  0.28120   \n",
      "4    0.2384  0.07542  ...  15.74  37.18  106.40   762.4  0.15330  0.93270   \n",
      "..      ...      ...  ...    ...    ...     ...     ...      ...      ...   \n",
      "449  0.1845  0.05828  ...  12.36  41.78   78.44   470.9  0.09994  0.06885   \n",
      "450  0.2131  0.06325  ...  19.59  24.89  133.50  1189.0  0.17030  0.39340   \n",
      "451  0.1903  0.06422  ...  10.62  14.10   66.53   342.9  0.12340  0.07204   \n",
      "452  0.1820  0.06850  ...  12.98  30.36   84.48   513.9  0.13110  0.18220   \n",
      "453  0.2149  0.06879  ...  24.29  29.41  179.10  1819.0  0.14070  0.41860   \n",
      "\n",
      "         X27      X28     X29      X30  \n",
      "0    0.09412  0.06517  0.2878  0.09211  \n",
      "1    0.13900  0.06005  0.2444  0.06788  \n",
      "2    0.40240  0.17160  0.3383  0.10310  \n",
      "3    0.24890  0.14560  0.2756  0.07919  \n",
      "4    0.84880  0.17720  0.5166  0.14460  \n",
      "..       ...      ...     ...      ...  \n",
      "449  0.02318  0.03002  0.2911  0.07307  \n",
      "450  0.50180  0.25430  0.3109  0.09061  \n",
      "451  0.00000  0.00000  0.3105  0.08151  \n",
      "452  0.16090  0.12020  0.2599  0.08251  \n",
      "453  0.65990  0.25420  0.2929  0.09873  \n",
      "\n",
      "[454 rows x 30 columns]\n",
      "0      0\n",
      "1      0\n",
      "2      1\n",
      "3      1\n",
      "4      1\n",
      "      ..\n",
      "449    0\n",
      "450    1\n",
      "451    0\n",
      "452    0\n",
      "453    1\n",
      "Name: y, Length: 454, dtype: int32\n",
      "         X1     X2      X3      X4       X5       X6        X7        X8  \\\n",
      "0    13.820  24.49   92.33   595.9  0.11620  0.16810  0.135700  0.067590   \n",
      "1    12.460  12.83   78.83   477.3  0.07372  0.04043  0.007173  0.011490   \n",
      "2    11.040  16.83   70.92   373.2  0.10770  0.07804  0.030460  0.024800   \n",
      "3     9.787  19.94   62.11   294.5  0.10240  0.05301  0.006829  0.007937   \n",
      "4     9.405  21.70   59.60   271.2  0.10440  0.06159  0.020470  0.012570   \n",
      "..      ...    ...     ...     ...      ...      ...       ...       ...   \n",
      "110  11.840  18.94   75.51   428.0  0.08871  0.06900  0.026690  0.013930   \n",
      "111  20.440  21.78  133.80  1293.0  0.09150  0.11310  0.097990  0.077850   \n",
      "112  10.440  15.46   66.62   329.6  0.10530  0.07722  0.006643  0.012160   \n",
      "113  13.590  21.84   87.16   561.0  0.07956  0.08259  0.040720  0.021420   \n",
      "114  13.640  16.34   87.21   571.8  0.07685  0.06059  0.018570  0.017230   \n",
      "\n",
      "         X9      X10  ...    X21    X22     X23     X24      X25      X26  \\\n",
      "0    0.2275  0.07237  ...  16.01  32.94  106.00   788.0  0.17940  0.39660   \n",
      "1    0.1613  0.06013  ...  13.19  16.36   83.24   534.0  0.09439  0.06477   \n",
      "2    0.1714  0.06340  ...  12.41  26.44   79.93   471.4  0.13690  0.14820   \n",
      "3    0.1350  0.06890  ...  10.92  26.29   68.81   366.1  0.13160  0.09473   \n",
      "4    0.2025  0.06601  ...  10.85  31.24   68.73   359.4  0.15260  0.11930   \n",
      "..      ...      ...  ...    ...    ...     ...     ...      ...      ...   \n",
      "110  0.1533  0.06057  ...  13.30  24.99   85.22   546.3  0.12800  0.18800   \n",
      "111  0.1618  0.05557  ...  24.31  26.37  161.20  1780.0  0.13270  0.23760   \n",
      "112  0.1788  0.06450  ...  11.52  19.80   73.47   395.4  0.13410  0.11530   \n",
      "113  0.1635  0.05859  ...  14.80  30.04   97.66   661.5  0.10050  0.17300   \n",
      "114  0.1353  0.05953  ...  14.67  23.19   96.08   656.7  0.10890  0.15820   \n",
      "\n",
      "         X27      X28     X29      X30  \n",
      "0    0.33810  0.15210  0.3651  0.11830  \n",
      "1    0.01674  0.02680  0.2280  0.07028  \n",
      "2    0.10670  0.07431  0.2998  0.07881  \n",
      "3    0.02049  0.02381  0.1934  0.08988  \n",
      "4    0.06141  0.03770  0.2872  0.08304  \n",
      "..       ...      ...     ...      ...  \n",
      "110  0.14710  0.06913  0.2535  0.07993  \n",
      "111  0.27020  0.17650  0.2609  0.06735  \n",
      "112  0.02639  0.04464  0.2615  0.08269  \n",
      "113  0.14530  0.06189  0.2446  0.07024  \n",
      "114  0.10500  0.08586  0.2346  0.08025  \n",
      "\n",
      "[115 rows x 30 columns]\n",
      "0      1\n",
      "1      0\n",
      "2      0\n",
      "3      0\n",
      "4      0\n",
      "      ..\n",
      "110    0\n",
      "111    1\n",
      "112    0\n",
      "113    0\n",
      "114    0\n",
      "Name: y, Length: 115, dtype: int32\n"
     ]
    }
   ],
   "source": [
    "# Again, note normalization hasn't been performed\n",
    "\n",
    "from sklearn.model_selection import train_test_split\n",
    "\n",
    "X_y_train_0,X_y_test_0 = train_test_split(X_y_0,test_size = 0.2,shuffle=True)\n",
    "X_y_train_1,X_y_test_1 = train_test_split(X_y_1,test_size = 0.2,shuffle=True)\n",
    "\n",
    "\n",
    "\n",
    "X_y_train = pd.concat([X_y_train_0,X_y_train_1],axis=0)\n",
    "X_y_test = pd.concat([X_y_test_0,X_y_test_1],axis=0)\n",
    "\n",
    "\n",
    "from sklearn.utils import shuffle\n",
    "\n",
    "X_y_train = shuffle(X_y_train)\n",
    "X_y_test = shuffle(X_y_test)\n",
    "\n",
    "\n",
    "\n",
    "X_y_train.reset_index(drop=True,inplace=True)\n",
    "X_y_test.reset_index(drop=True,inplace=True)\n",
    "\n",
    "\n",
    "X_train = X_y_train.drop(columns=['y'])\n",
    "X_test = X_y_test.drop(columns=['y'])\n",
    "y_train = X_y_train['y'].astype(int)\n",
    "y_test =  X_y_test['y'].astype(int)\n",
    "print(X_train)\n",
    "print(y_train)\n",
    "print(X_test)\n",
    "print(y_test)\n",
    "\n",
    "\n",
    "# the above code generates the train and test sets, raw, with the required class proportions, as before"
   ]
  },
  {
   "cell_type": "code",
   "execution_count": 598,
   "metadata": {},
   "outputs": [
    {
     "name": "stdout",
     "output_type": "stream",
     "text": [
      "[1 1 1 0 1 1 0 0 1 1 1 0 1 1 1 0 0 1 1 1 1 0 1 0 0 1 1 1 0 1 1 1 1 1 1 1 1\n",
      " 1 1 1 1 1 1 1 1 1 1 1 0 0 1 0 1 1 0 1 1 1 1 1 1 1 1 0 1 1 0 1 0 1 1 1 1 1\n",
      " 1 1 1 0 1 1 0 1 0 0 1 1 0 1 1 1 1 1 1 1 0 1 1 1 1 1 1 1 0 1 1 1 1 0 1 1 1\n",
      " 0 1 1 1 1 0 1 1 0 1 1 1 1 1 1 1 0 1 1 1 0 1 1 1 1 1 1 1 1 1 0 1 0 1 1 1 1\n",
      " 1 1 1 1 1 1 1 0 1 0 1 1 1 1 0 1 0 1 1 1 0 1 1 1 1 0 1 1 1 0 1 1 1 1 1 0 0\n",
      " 1 1 0 1 1 1 1 1 0 1 1 1 1 1 1 1 1 0 0 0 1 0 1 1 1 1 1 0 1 1 1 1 1 1 1 1 0\n",
      " 1 1 1 1 1 0 1 1 1 1 1 1 0 0 0 1 0 1 1 1 1 1 1 1 1 1 1 1 1 0 1 0 1 1 1 1 0\n",
      " 0 1 0 1 0 1 1 0 1 1 1 1 1 0 1 1 1 0 1 1 1 1 1 1 1 1 1 1 1 0 1 1 1 1 1 0 1\n",
      " 1 1 1 1 1 1 1 1 0 1 1 1 1 1 1 1 1 1 1 1 0 1 1 1 0 1 1 1 1 0 0 1 0 1 0 1 1\n",
      " 1 1 1 1 0 0 1 1 1 1 0 1 1 1 1 1 1 1 0 0 0 1 1 1 1 0 1 0 1 1 1 1 1 0 1 1 0\n",
      " 1 0 1 0 1 0 1 0 1 1 1 1 1 0 1 1 1 1 0 1 1 0 1 1 0 1 1 1 1 1 1 0 1 1 1 1 1\n",
      " 1 1 1 1 1 0 1 1 0 1 1 1 1 0 1 1 1 1 1 1 0 0 1 1 1 0 1 0 1 1 0 0 1 1 1 1 1\n",
      " 1 1 1 1 0 1 0 1 1 0]\n",
      "[[1.95524272e+01 2.17500000e+01 1.29460194e+02 1.20618252e+03\n",
      "  1.01922524e-01 1.50721748e-01 1.80237864e-01 1.02577379e-01\n",
      "  1.90916505e-01 6.08117476e-02 7.35649515e-01 1.19354078e+00\n",
      "  5.16933981e+00 9.52884466e+01 6.60421359e-03 3.20609223e-02\n",
      "  4.17117476e-02 1.52902718e-02 2.00762136e-02 3.98317476e-03\n",
      "  2.39249515e+01 2.89690291e+01 1.60020388e+02 1.77772816e+03\n",
      "  1.41975922e-01 3.67938447e-01 4.58076699e-01 1.95795243e-01\n",
      "  3.13346602e-01 8.75563107e-02]\n",
      " [1.26033191e+01 1.86830769e+01 8.14434473e+01 5.00059259e+02\n",
      "  9.51222222e-02 9.14981481e-02 6.25428966e-02 3.36345470e-02\n",
      "  1.79004558e-01 6.34256410e-02 3.12915954e-01 1.20451994e+00\n",
      "  2.21109202e+00 2.46946895e+01 7.09937892e-03 2.34884929e-02\n",
      "  2.86166484e-02 1.06598946e-02 2.08581425e-02 3.75445385e-03\n",
      "  1.41354131e+01 2.48065242e+01 9.25677778e+01 6.28340741e+02\n",
      "  1.29631311e-01 2.23220313e-01 2.18985541e-01 9.08226524e-02\n",
      "  2.85869231e-01 8.30214815e-02]]\n"
     ]
    }
   ],
   "source": [
    "# Performing K-Means on the entire train, with k = 2\n",
    "# We perform K-Means multiple times, to ensure convergence to global optimum, each time with random initial assignment\n",
    "\n",
    "# In actuality, and ideally, k-means should be performed randomly multiple times, each time with an initial random \n",
    "# cluster assignment. This assignment should be stored, for each random iteration, and the objective function (function to min.)\n",
    "# for k-means also stored for each random iteration\n",
    "\n",
    "# Then the initial random assignment that gives the corresponding minimum objective function, of all the iterations, should\n",
    "# then be picked. This initial random cluster assignment is the assignment that actually leads to a global convergence (global min.)\n",
    "\n",
    "# Here, again, this won't be done. Reason mostly stems from making the problem simple\n",
    "\n",
    "# We will perform K-means multiple times here, each time with a random initial cluster assignment, in scikit, and assume convergence\n",
    "# by the time the algorithm picks the final random cluster assignment.\n",
    "\n",
    "# Again, while not exactly true, storing the initial cluster assignments for each iteration, calculating objective function\n",
    "# for each iteration, then selecting the assignment that leads to the most minimal objective function and re-clustering over\n",
    "# that assignment is relatively complicated (computationally, but also somewhat algorithmically).\n",
    "\n",
    "# Thus, from multiple random k-means trials, we assume eventual convergence\n",
    "\n",
    "\n",
    "from sklearn.cluster import KMeans\n",
    "\n",
    "for i in np.arange(0,10):        # refitting k-means 10 times \n",
    "                                 # only 10, to save computational intensity, can be increased at the price/cost of run times\n",
    "    kmeans = KMeans(n_clusters=2,init='random',n_init=10).fit(X_train)   # fitting clusters on entire train, with random initial cluster assignments\n",
    "\n",
    "    \n",
    "# NOTE : Both KMeans and SpectralCLustering have n_init = 10. As such the external loop is not required, but since it was used for \n",
    "# KMeans we will also use it for SpectralClustering. In all, again, the final fit will be the last one, and the total randomized\n",
    "# trials will be 10*10, increasing our chances of picking optimal clusters (globally optimal)\n",
    "\n",
    "    \n",
    "# the k-means performed at the end i.e. for i=9 or for the 10th time is chosen for subsequent portions\n",
    "\n",
    "# we assume by the 10th time or by i=9, the kmeans fit over X_train, selects an appropriately selected random initial cluster\n",
    "# assignment that leads to global convergence\n",
    "\n",
    "# we could 'poll' the results of all kmeans, or 'poll' over the obtained clusters, to obtain the polled cluster assignment\n",
    "# however this isn't done. One reason being this increases complexity. Another being this, then has to be done every\n",
    "# single time, whenever clusters are found over any test set. Also it required storage of the random initial assignments\n",
    "# for consistency\n",
    "\n",
    "# thus polling isn't done, and we assume that there is an 'iterative convergence'\n",
    "# additionally storing objective and initial clusters also isn't done for simplicity\n",
    "# also, as Monte-Carlo runs, we assume, that the 'averaged' parameters point to the globally converged set of clusters\n",
    "\n",
    "# thus, in conclusion, last fitted kmeans = KMeans(parameters).fit(X_train) is our fit over which subsequent portions are thus\n",
    "# done\n",
    "\n",
    "\n",
    "y_train_pred_cluster = kmeans.labels_\n",
    "cluster_centers = kmeans.cluster_centers_\n",
    "\n",
    "print(y_train_pred_cluster)    \n",
    "print(cluster_centers)"
   ]
  },
  {
   "cell_type": "markdown",
   "metadata": {},
   "source": [
    "The clusters predicted and the cluster centers are obtained as above\n",
    "\n",
    "PART A\n",
    "There are a few ways to guarantee kmeans convergence. By performing kmeans multiple times, with random initialized cluster assignments, we can guarantee that at least one of those few kmeans iterations will converge to the global optimum\n",
    "\n",
    "As such, this can be checked by measuring the kmeans objective functions for each iteration, storing it, storing the corresponding cluster assignment (which was done at random). The assignment that minimizes the objective over all the local optimals, thus give us the cluster assignment that converges to the global optimal.\n",
    "\n",
    "Obviously while this is the most accurate way to do kmeans, it takes up a lot of computation, run time and memory. If various scores for kmeans are needed, we assume by performing kmeans multiple times (Monte-Carlo) and storing the scores each time, the overall average score, corresponds to the one obtained via the globally optimum trained kmeans.\n",
    "\n",
    "Thus the external Monte-Carlo iterations, more or less, guarantee globally optimal converged scores\n",
    "\n",
    "NOTE : \n",
    "\n",
    "For each Monte iteration, if the optimal k-means is needed that also increases computation. Within each Monte-Carlo iteration, off of the multiple ways to try for kmeans convergence, a few are thus:\n",
    "- We can, for each Monte iteration, train kmeans multiple times, using random cluster assignments each time. Then 'poll' the       obtained kmeans labels over all the obtained labels. Something similar may be done for the 'polled' cluster centers\n",
    "  However, as explained in comments, this then needs to be performed for all fits and predictions with multiple complications of   storage and polling functions to define the 'kmeans' final fit function\n",
    "  This, is complicated, time consuming, and to a certain extent not needed due to the external Monte-Carlo iterations\n",
    "  \n",
    "- We can, for each Monte iteration, store objective and initial random cluster assignment for all within Monte kmeans\n",
    "  iterations. Then we pick the initial assignment that minimizes this 'minimized objective' over all local optimals.\n",
    "  This, again, is complicated, computationally intensive, requires a lot of storage.\n",
    "  Note, that this is the absolutely correct method. Not needed even for Monte-Carlo (as we do perform Monte iterations             externally)\n",
    "  \n",
    "- We can, for each Monte iteration, train kmeans multiple times, each time with a random initial cluster assignment. We assume     then, that the final fit corresponds to the globally convergent point. Again, while not true, this multiple iteration           approach with the selection of the final/last fit, does more or less guarantee an eventual convergence to global optimal         point. Multiple iterations, with the selection of last one, definitely increases our chances of selecting the globally           optimal fit.\n",
    "  Computationally easy, uncomplicated.\n",
    "  \n",
    "The second approach is the best and correct. The first approach is a good approximate to the second one. The third one is the easiest, most practical and least complicated.\n",
    "\n",
    "Noting, that, Monte-Carlo, is as is performed, we may use the third 'within-each-Monte-iteration' approach, since Monte does ensure that the scores, the averaged ones, do reflect the nature of globally converged kmeans fit over our dataset.\n",
    "\n",
    "Thus the third-within-monte-iteration approach has been used in the coding portion above this markdown due to its practicality and its convenience and due to the above mentioned facts.\n",
    "\n",
    "Results for B. and C. in subsequent coding portions, Monte performed in a seperate file, this is for one such Monte iteration."
   ]
  },
  {
   "cell_type": "code",
   "execution_count": 599,
   "metadata": {},
   "outputs": [
    {
     "name": "stdout",
     "output_type": "stream",
     "text": [
      "[304  21 111  15  66 358 184 330 391 353 369 428 328  48  86 107 162 235\n",
      " 453 155 432 320 383 183  83  82 366 141 316 337]\n",
      "[ 74 292 345  18 324 209 306 151  31 421 180  93 194 318 443 397 247 425\n",
      " 171  58 444 165 198 402 323 252 322   1 390  78]\n"
     ]
    }
   ],
   "source": [
    "# Calculating sample distance for each sample in X_train from their corresponding cluster center\n",
    "\n",
    "X_train_dist_0 = kmeans.transform(X_train)[:,0]\n",
    "X_train_dist_1 = kmeans.transform(X_train)[:,1]\n",
    "\n",
    "# distance arrays from cluster center 0 and 1 for all samples\n",
    "\n",
    "all_indx = np.arange(0,X_train.shape[0])           # all indices of X_train, stored in an array\n",
    "\n",
    "list_cluster_0 = []         # indices of samples classified to cluster 0\n",
    "list_cluster_1 = []         # indices of samples classified to cluster 1\n",
    "\n",
    "for i in all_indx:\n",
    "    if y_train_pred_cluster[i] == 0:\n",
    "        list_cluster_0.append(i)\n",
    "    else:\n",
    "        list_cluster_1.append(i)\n",
    "        \n",
    "# at the end of this for loop, list_cluster_0 and list_cluster_1 contain indices of all samples (internal indices) clustered\n",
    "# to cluster 0 and cluster 1 respectively\n",
    "\n",
    "dist_0_0 = X_train_dist_0[list_cluster_0]   # distance of samples classified to cluster 0 from cluster center 0\n",
    "dist_1_1 = X_train_dist_1[list_cluster_1]   # distance of samples classified to cluster 1 from cluster center 1\n",
    "\n",
    "# list_cluster_0 and list_cluster_1 has indices of samples in X_train (internal) classified to cluster 0 and cluster 1\n",
    "# the indices of samples in cluster 0 (list_cluster_0) slices the array that contains distances of all samples from cluster center\n",
    "# 0. This is stored in dist_0_0. Same for dist_1_1\n",
    "\n",
    "# thus dist_0_0 and dist_1_1 contains distances of samples from cluster center 0 and cluster center 1, but only those samples\n",
    "# that correspond to sample index in list_cluster_0 and list_cluster_1, which again contain only samples classified to \n",
    "# cluster 0 and cluster 1\n",
    "\n",
    "# so, dist_0_0 ---- list_cluster_0 --------- sample index in X_train in cluster 0\n",
    "# so, dist_1_1 ---- list_cluster_1 --------- sample index in X_train in cluster 1\n",
    "\n",
    "df_0 = pd.DataFrame(np.transpose(np.array([np.array(list_cluster_0),dist_0_0])),columns=['index','distance'])\n",
    "df_1 = pd.DataFrame(np.transpose(np.array([np.array(list_cluster_1),dist_1_1])),columns=['index','distance'])\n",
    "\n",
    "#  df for 0 and 1 (0/1) :\n",
    "\n",
    "#                 col                              col \n",
    "#  row    index (0/1 sample)         distance of corresponding sample from 0/1 cluster\n",
    "#  row    index (0/1 sample)         distance of corresponding sample from 0/1 cluster\n",
    "#  row    index (0/1 sample)         distance of corresponding sample from 0/1 cluster\n",
    "#  row    index (0/1 sample)         distance of corresponding sample from 0/1 cluster\n",
    "#   .           .                                   .\n",
    "#   .           .                                   . \n",
    "#   .           .                                   .\n",
    "\n",
    "\n",
    "\n",
    "\n",
    "\n",
    "\n",
    "# sorting to pick 30 closest for each\n",
    "\n",
    "# we will assume that at least 30 points have been classified to both clusters (cluster 0 and cluster 1 have 30 points at least)\n",
    "\n",
    "# we could, code, extra logic to ensure that when this doesn't happen (say cluster 0 has less than 30 samples or cluster 1)\n",
    "# polling is done consequently\n",
    "\n",
    "# however looking at the dataset this issue shouldn't arise, especially given that 30 is a pretty low number\n",
    "\n",
    "# extra code for the 'weird case' would, as is, only take 1-2 lines, not more, for simplicity this 'what if?' case has \n",
    "# been ignored as we assume for this dataset this shouldn't happen in line with how it is distributed\n",
    "\n",
    "# dimensions are pretty large, so we should be able to obtain 'consequential clusters' such that this doesn't happen\n",
    "\n",
    "\n",
    "df_0_srt_slc = df_0.sort_values(by=['distance'],ascending=True).iloc[0:30,:]\n",
    "df_1_srt_slc = df_1.sort_values(by=['distance'],ascending=True).iloc[0:30,:]\n",
    "\n",
    "sel_indx_0_cls = df_0_srt_slc.iloc[:,0].to_numpy().flatten().astype(int)\n",
    "sel_indx_1_cls = df_1_srt_slc.iloc[:,0].to_numpy().flatten().astype(int)\n",
    "\n",
    "print(sel_indx_0_cls)\n",
    "print(sel_indx_1_cls)\n",
    "\n",
    "\n",
    "# sel_indx_0/1_cls contains the index of the samples in X_train classified to cluster 0/1 closest to cluster center 0/1\n",
    "# (total 30 such indices obviously)"
   ]
  },
  {
   "cell_type": "code",
   "execution_count": 600,
   "metadata": {},
   "outputs": [
    {
     "name": "stdout",
     "output_type": "stream",
     "text": [
      "304    1\n",
      "21     1\n",
      "111    1\n",
      "15     1\n",
      "66     1\n",
      "358    1\n",
      "184    1\n",
      "330    1\n",
      "391    1\n",
      "353    1\n",
      "369    1\n",
      "428    1\n",
      "328    1\n",
      "48     1\n",
      "86     1\n",
      "107    1\n",
      "162    1\n",
      "235    1\n",
      "453    1\n",
      "155    1\n",
      "432    1\n",
      "320    1\n",
      "383    1\n",
      "183    1\n",
      "83     1\n",
      "82     1\n",
      "366    1\n",
      "141    1\n",
      "316    1\n",
      "337    1\n",
      "Name: y, dtype: int32\n",
      "74     0\n",
      "292    0\n",
      "345    0\n",
      "18     0\n",
      "324    0\n",
      "209    0\n",
      "306    0\n",
      "151    0\n",
      "31     0\n",
      "421    0\n",
      "180    0\n",
      "93     0\n",
      "194    0\n",
      "318    0\n",
      "443    1\n",
      "397    0\n",
      "247    0\n",
      "425    0\n",
      "171    0\n",
      "58     0\n",
      "444    0\n",
      "165    0\n",
      "198    0\n",
      "402    0\n",
      "323    0\n",
      "252    0\n",
      "322    0\n",
      "1      0\n",
      "390    0\n",
      "78     0\n",
      "Name: y, dtype: int32\n"
     ]
    }
   ],
   "source": [
    "# now that indices have been obtained we'll correspondingly slice y_train (to read the true labels) and poll to obtain\n",
    "# class for each cluster\n",
    "\n",
    "y_train_read_0 = y_train[sel_indx_0_cls]\n",
    "y_train_read_1 = y_train[sel_indx_1_cls]\n",
    "\n",
    "# slicing\n",
    "\n",
    "print(y_train_read_0)\n",
    "print(y_train_read_1)"
   ]
  },
  {
   "cell_type": "code",
   "execution_count": 601,
   "metadata": {},
   "outputs": [
    {
     "name": "stdout",
     "output_type": "stream",
     "text": [
      "1\n",
      "0\n"
     ]
    }
   ],
   "source": [
    "# now polling to classify clusters to a class (0/1)\n",
    "\n",
    "import math\n",
    "pol_thrsh = 0.5 # this threshold will be varied for ROC and AUC later, code can be copied is pol_thrsh used\n",
    "                # threshold same for both clusters\n",
    "\n",
    "read_labels_0 = y_train_read_0.to_numpy().flatten()   # to numpy\n",
    "read_labels_1 = y_train_read_1.to_numpy().flatten()   # to numpy\n",
    "\n",
    "pol_num_0 = math.floor(pol_thrsh*read_labels_0.size)     # decisive polling number off of same thresholds\n",
    "pol_num_1 = math.floor(pol_thrsh*read_labels_1.size)     # decisive polling number off of same thresholds\n",
    "\n",
    "\n",
    "pol_cnt_c0_0 = 0                    # label 0 counted for cluster 0\n",
    "pol_cnt_c1_0 = 0                    # label 0 counted for cluster 1\n",
    "\n",
    "\n",
    "for i in np.arange(0,read_labels_0.size):\n",
    "    if read_labels_0[i] == 0:\n",
    "        pol_cnt_c0_0 = pol_cnt_c0_0 + 1\n",
    "        \n",
    "\n",
    "if pol_cnt_c0_0 > pol_num_0:\n",
    "    clus_0 = 0\n",
    "else:\n",
    "    clus_0 = 1\n",
    "    \n",
    "\n",
    "\n",
    "for i in np.arange(0,read_labels_1.size):\n",
    "    if read_labels_1[i] == 0:\n",
    "        pol_cnt_c1_0 = pol_cnt_c1_0 + 1\n",
    "        \n",
    "\n",
    "if pol_cnt_c1_0 > pol_num_1:\n",
    "    clus_1 = 0\n",
    "else:\n",
    "    clus_1 = 1\n",
    "    \n",
    "\n",
    "    \n",
    "print(clus_0)\n",
    "print(clus_1)\n",
    "\n",
    "\n",
    "# clus_0 and clus_1 assigns final class labels to both the cluster, via polling, using pol_thrsh"
   ]
  },
  {
   "cell_type": "code",
   "execution_count": 602,
   "metadata": {},
   "outputs": [
    {
     "name": "stdout",
     "output_type": "stream",
     "text": [
      "[0 0 0 1 0 0 1 1 0 0 0 1 0 0 0 1 1 0 0 0 0 1 0 1 1 0 0 0 1 0 0 0 0 0 0 0 0\n",
      " 0 0 0 0 0 0 0 0 0 0 0 1 1 0 1 0 0 1 0 0 0 0 0 0 0 0 1 0 0 1 0 1 0 0 0 0 0\n",
      " 0 0 0 1 0 0 1 0 1 1 0 0 1 0 0 0 0 0 0 0 1 0 0 0 0 0 0 0 1 0 0 0 0 1 0 0 0\n",
      " 1 0 0 0 0 1 0 0 1 0 0 0 0 0 0 0 1 0 0 0 1 0 0 0 0 0 0 0 0 0 1 0 1 0 0 0 0\n",
      " 0 0 0 0 0 0 0 1 0 1 0 0 0 0 1 0 1 0 0 0 1 0 0 0 0 1 0 0 0 1 0 0 0 0 0 1 1\n",
      " 0 0 1 0 0 0 0 0 1 0 0 0 0 0 0 0 0 1 1 1 0 1 0 0 0 0 0 1 0 0 0 0 0 0 0 0 1\n",
      " 0 0 0 0 0 1 0 0 0 0 0 0 1 1 1 0 1 0 0 0 0 0 0 0 0 0 0 0 0 1 0 1 0 0 0 0 1\n",
      " 1 0 1 0 1 0 0 1 0 0 0 0 0 1 0 0 0 1 0 0 0 0 0 0 0 0 0 0 0 1 0 0 0 0 0 1 0\n",
      " 0 0 0 0 0 0 0 0 1 0 0 0 0 0 0 0 0 0 0 0 1 0 0 0 1 0 0 0 0 1 1 0 1 0 1 0 0\n",
      " 0 0 0 0 1 1 0 0 0 0 1 0 0 0 0 0 0 0 1 1 1 0 0 0 0 1 0 1 0 0 0 0 0 1 0 0 1\n",
      " 0 1 0 1 0 1 0 1 0 0 0 0 0 1 0 0 0 0 1 0 0 1 0 0 1 0 0 0 0 0 0 1 0 0 0 0 0\n",
      " 0 0 0 0 0 1 0 0 1 0 0 0 0 1 0 0 0 0 0 0 1 1 0 0 0 1 0 1 0 0 1 1 0 0 0 0 0\n",
      " 0 0 0 0 1 0 1 0 0 1]\n"
     ]
    }
   ],
   "source": [
    "# kmeans has been fit over X_train\n",
    "# by label reading, clusters 0 and 1 have been assigned labels (class) as described in HW\n",
    "# now this same kmeans fit (stays same throughout, obviously), once it predicts a cluster for a sample\n",
    "# can now predict class based on this cluster-class assigned, bridged via clus_0 and clus_1 which\n",
    "# is specific to our kmeans fit (obtained in last of our 10 iterations, is the same throughout)\n",
    "# all this, again, is for single Monte-Iteration, to get a 'feel'\n",
    "\n",
    "\n",
    "# NOW for various scores\n",
    "\n",
    "y_train_pred = np.zeros(X_train.shape[0])\n",
    "\n",
    "for i in np.arange(0,X_train.shape[0]):\n",
    "    if y_train_pred_cluster[i] == 0:\n",
    "        y_train_pred[i] = clus_0\n",
    "    else:\n",
    "        y_train_pred[i] = clus_1\n",
    "        \n",
    "y_train_pred = y_train_pred.astype(int)\n",
    "print(y_train_pred)"
   ]
  },
  {
   "cell_type": "markdown",
   "metadata": {},
   "source": [
    "TRAINING SCORES"
   ]
  },
  {
   "cell_type": "code",
   "execution_count": 603,
   "metadata": {},
   "outputs": [
    {
     "name": "stdout",
     "output_type": "stream",
     "text": [
      "The training error is : \n",
      " 14.977973568281937 %\n"
     ]
    }
   ],
   "source": [
    "mis = 0\n",
    "for l in np.arange(0,X_train.shape[0]):\n",
    "    if y_train_pred[l] != y_train.iloc[l]:\n",
    "        mis = mis + 1\n",
    "\n",
    "train_error = (mis/X_train.shape[0])*100\n",
    "print('The training error is : \\n',train_error,'%')"
   ]
  },
  {
   "cell_type": "code",
   "execution_count": 604,
   "metadata": {},
   "outputs": [
    {
     "name": "stdout",
     "output_type": "stream",
     "text": [
      "The confusion matrix for training is : \n",
      " [[284   1]\n",
      " [ 67 102]]\n"
     ]
    }
   ],
   "source": [
    "from sklearn.metrics import confusion_matrix\n",
    "\n",
    "confusion_matrix_train = confusion_matrix(y_train,y_train_pred)\n",
    "\n",
    "print('The confusion matrix for training is : \\n',confusion_matrix_train)"
   ]
  },
  {
   "cell_type": "code",
   "execution_count": 605,
   "metadata": {},
   "outputs": [
    {
     "name": "stdout",
     "output_type": "stream",
     "text": [
      "The confusion matrix for train, appropriately indexed is : \n",
      "             Predicted 0  Predicted 1\n",
      "Actually 0          284            1\n",
      "Actually 1           67          102\n"
     ]
    }
   ],
   "source": [
    "confusion_matrix_train_df = pd.DataFrame(confusion_matrix_train,index=['Actually 0','Actually 1'],columns=['Predicted 0','Predicted 1'])\n",
    "print('The confusion matrix for train, appropriately indexed is : \\n',confusion_matrix_train_df)"
   ]
  },
  {
   "cell_type": "code",
   "execution_count": 606,
   "metadata": {},
   "outputs": [
    {
     "name": "stdout",
     "output_type": "stream",
     "text": [
      "The precision for train is : \n",
      " 99.02912621359224 %\n",
      "The recall for train is : \n",
      " 60.35502958579882 %\n"
     ]
    }
   ],
   "source": [
    "precision_train = (confusion_matrix_train[1][1]/(confusion_matrix_train[1][1]+confusion_matrix_train[0][1]))*100\n",
    "recall_train = (confusion_matrix_train[1][1]/(confusion_matrix_train[1][1]+confusion_matrix_train[1][0]))*100\n",
    "\n",
    "print('The precision for train is : \\n',precision_train,'%')\n",
    "print('The recall for train is : \\n',recall_train,'%')"
   ]
  },
  {
   "cell_type": "code",
   "execution_count": 607,
   "metadata": {},
   "outputs": [
    {
     "name": "stdout",
     "output_type": "stream",
     "text": [
      "The accuracy for training is : \n",
      " 85.02202643171806 %\n",
      "The f1 score for training is : \n",
      " 0.7499999999999999\n"
     ]
    }
   ],
   "source": [
    "accuracy_train = ((confusion_matrix_train[0][0]+confusion_matrix_train[1][1])/(confusion_matrix_train[0][0]+confusion_matrix_train[1][1]+confusion_matrix_train[0][1]+confusion_matrix_train[1][0]))*100\n",
    "f1_train = ((2*(precision_train/100)*(recall_train/100))/((precision_train/100)+(recall_train/100))) # divided by 100 as precision and recall specified in percentage\n",
    "print('The accuracy for training is : \\n',accuracy_train,'%')\n",
    "print('The f1 score for training is : \\n',f1_train)"
   ]
  },
  {
   "cell_type": "markdown",
   "metadata": {},
   "source": [
    "TEST SCORES"
   ]
  },
  {
   "cell_type": "code",
   "execution_count": 608,
   "metadata": {},
   "outputs": [
    {
     "name": "stdout",
     "output_type": "stream",
     "text": [
      "[1 1 1 1 1 1 0 1 1 1 1 1 1 0 1 0 1 1 1 1 1 1 1 1 1 0 0 1 0 1 1 1 1 1 0 1 1\n",
      " 1 0 1 1 1 1 1 0 1 1 0 1 1 0 1 1 1 0 1 1 1 0 1 1 0 1 1 1 1 1 1 1 1 1 1 1 1\n",
      " 0 0 1 1 1 1 1 1 0 1 0 1 1 1 1 0 1 1 1 1 1 0 1 1 1 1 0 0 1 0 1 0 1 1 1 1 1\n",
      " 0 1 1 1]\n"
     ]
    }
   ],
   "source": [
    "y_test_pred_cluster = kmeans.predict(X_test)\n",
    "\n",
    "print(y_test_pred_cluster)"
   ]
  },
  {
   "cell_type": "code",
   "execution_count": 609,
   "metadata": {},
   "outputs": [
    {
     "name": "stdout",
     "output_type": "stream",
     "text": [
      "[0 0 0 0 0 0 1 0 0 0 0 0 0 1 0 1 0 0 0 0 0 0 0 0 0 1 1 0 1 0 0 0 0 0 1 0 0\n",
      " 0 1 0 0 0 0 0 1 0 0 1 0 0 1 0 0 0 1 0 0 0 1 0 0 1 0 0 0 0 0 0 0 0 0 0 0 0\n",
      " 1 1 0 0 0 0 0 0 1 0 1 0 0 0 0 1 0 0 0 0 0 1 0 0 0 0 1 1 0 1 0 1 0 0 0 0 0\n",
      " 1 0 0 0]\n"
     ]
    }
   ],
   "source": [
    "y_test_pred = np.zeros(X_test.shape[0])\n",
    "for i in np.arange(0,X_test.shape[0]):\n",
    "    if y_test_pred_cluster[i] == 0:\n",
    "        y_test_pred[i] = clus_0\n",
    "    else:\n",
    "        y_test_pred[i] = clus_1\n",
    "\n",
    "y_test_pred = y_test_pred.astype(int)\n",
    "print(y_test_pred)"
   ]
  },
  {
   "cell_type": "code",
   "execution_count": 610,
   "metadata": {},
   "outputs": [
    {
     "name": "stdout",
     "output_type": "stream",
     "text": [
      "The test error is obtained : \n",
      " 15.65217391304348 %\n"
     ]
    }
   ],
   "source": [
    "mis = 0\n",
    "for l in np.arange(0,X_test.shape[0]):\n",
    "    if y_test_pred[l] != y_test.iloc[l]:\n",
    "        mis = mis + 1\n",
    "\n",
    "test_error = (mis/X_test.shape[0])*100\n",
    "print('The test error is obtained : \\n',test_error,'%')"
   ]
  },
  {
   "cell_type": "code",
   "execution_count": 611,
   "metadata": {},
   "outputs": [
    {
     "name": "stdout",
     "output_type": "stream",
     "text": [
      "The confusion matrix for test is : \n",
      " [[72  0]\n",
      " [18 25]]\n"
     ]
    }
   ],
   "source": [
    "confusion_matrix_test = confusion_matrix(y_test,y_test_pred)\n",
    "\n",
    "print('The confusion matrix for test is : \\n',confusion_matrix_test)"
   ]
  },
  {
   "cell_type": "code",
   "execution_count": 612,
   "metadata": {},
   "outputs": [
    {
     "name": "stdout",
     "output_type": "stream",
     "text": [
      "The confusion matrix for test, appropriately indexed is : \n",
      "             Predicted 0  Predicted 1\n",
      "Actually 0           72            0\n",
      "Actually 1           18           25\n"
     ]
    }
   ],
   "source": [
    "confusion_matrix_test_df = pd.DataFrame(confusion_matrix_test,index=['Actually 0','Actually 1'],columns=['Predicted 0','Predicted 1'])\n",
    "print('The confusion matrix for test, appropriately indexed is : \\n',confusion_matrix_test_df)"
   ]
  },
  {
   "cell_type": "code",
   "execution_count": 613,
   "metadata": {},
   "outputs": [
    {
     "name": "stdout",
     "output_type": "stream",
     "text": [
      "The precision for test is : \n",
      " 100.0 %\n",
      "The recall for test is : \n",
      " 58.139534883720934 %\n"
     ]
    }
   ],
   "source": [
    "precision_test = (confusion_matrix_test[1][1]/(confusion_matrix_test[1][1]+confusion_matrix_test[0][1]))*100\n",
    "recall_test = (confusion_matrix_test[1][1]/(confusion_matrix_test[1][1]+confusion_matrix_test[1][0]))*100\n",
    "\n",
    "print('The precision for test is : \\n',precision_test,'%')\n",
    "print('The recall for test is : \\n',recall_test,'%')"
   ]
  },
  {
   "cell_type": "code",
   "execution_count": 614,
   "metadata": {},
   "outputs": [
    {
     "name": "stdout",
     "output_type": "stream",
     "text": [
      "The accuracy for test is : \n",
      " 84.34782608695653 %\n",
      "The f1 score for test is : \n",
      " 0.7352941176470588\n"
     ]
    }
   ],
   "source": [
    "accuracy_test = ((confusion_matrix_test[0][0]+confusion_matrix_test[1][1])/(confusion_matrix_test[0][0]+confusion_matrix_test[1][1]+confusion_matrix_test[0][1]+confusion_matrix_test[1][0]))*100\n",
    "f1_test = ((2*(precision_test/100)*(recall_test/100))/((precision_test/100)+(recall_test/100))) # divided by 100 as precision and recall specified in percentage\n",
    "print('The accuracy for test is : \\n',accuracy_test,'%')\n",
    "print('The f1 score for test is : \\n',f1_test)"
   ]
  },
  {
   "cell_type": "markdown",
   "metadata": {},
   "source": [
    "ROC and AUC for Train and Test\n",
    "\n",
    "Again, the code of pol_thrsh will be used here to obtain to ROC and AUC, both, for test as well as for train"
   ]
  },
  {
   "cell_type": "code",
   "execution_count": 615,
   "metadata": {},
   "outputs": [
    {
     "name": "stdout",
     "output_type": "stream",
     "text": [
      "             FPR      TPR\n",
      "0.00  0.00350877  0.60355\n",
      "0.01  0.00350877  0.60355\n",
      "0.02  0.00350877  0.60355\n",
      "0.03  0.00350877  0.60355\n",
      "0.04  0.00350877  0.60355\n",
      "...          ...      ...\n",
      "0.96  0.00350877  0.60355\n",
      "0.97           1        1\n",
      "0.98           1        1\n",
      "0.99           1        1\n",
      "1.00           1        1\n",
      "\n",
      "[101 rows x 2 columns]\n",
      "     FPR       TPR\n",
      "0.00   0  0.581395\n",
      "0.01   0  0.581395\n",
      "0.02   0  0.581395\n",
      "0.03   0  0.581395\n",
      "0.04   0  0.581395\n",
      "...   ..       ...\n",
      "0.96   0  0.581395\n",
      "0.97   1         1\n",
      "0.98   1         1\n",
      "0.99   1         1\n",
      "1.00   1         1\n",
      "\n",
      "[101 rows x 2 columns]\n"
     ]
    }
   ],
   "source": [
    "# FOR TRAIN FIRST\n",
    "\n",
    "# read_labels_0 and read_labels_1 stay consequential\n",
    "# kmeans is consequential and predicted clusters (for both train and test) stay the same (as kmeans is the same)\n",
    "# class prediction using the predicted clusters depend on our 'polling'\n",
    "# polling depends on threshold which for roc and auc will be varied\n",
    "# thus y_train_pred_cluster and y_test_pred_cluster stay same\n",
    "# classifying rule changes\n",
    "# so y_train_pred and y_test_pred changes\n",
    "# this gives the roc and auc\n",
    "\n",
    "pol_thrsh_ra_range = np.arange(0,1.01,0.01)  # varying threshold\n",
    "ROC_df = pd.DataFrame(index=pol_thrsh_ra_range,columns=['FPR','TPR'])\n",
    "ROC_df_test = pd.DataFrame(index=pol_thrsh_ra_range,columns=['FPR','TPR'])\n",
    "\n",
    "\n",
    "\n",
    "for ra in np.arange(0,pol_thrsh_ra_range.size):\n",
    "    \n",
    "    pol_thrsh_ra = pol_thrsh_ra_range[ra]\n",
    "    \n",
    "    pol_num_0_ra = math.floor(pol_thrsh_ra*read_labels_0.size)    \n",
    "    pol_num_1_ra = math.floor(pol_thrsh_ra*read_labels_1.size)\n",
    "    \n",
    "    pol_cnt_c0_0_ra = 0                    \n",
    "    pol_cnt_c1_0_ra = 0                    \n",
    "\n",
    "\n",
    "    for i in np.arange(0,read_labels_0.size):\n",
    "        if read_labels_0[i] == 0:\n",
    "            pol_cnt_c0_0_ra = pol_cnt_c0_0_ra + 1\n",
    "\n",
    "\n",
    "    if pol_cnt_c0_0_ra > pol_num_0_ra:\n",
    "        clus_0_ra = 0\n",
    "    else:\n",
    "        clus_0_ra = 1\n",
    "\n",
    "\n",
    "\n",
    "    for i in np.arange(0,read_labels_1.size):\n",
    "        if read_labels_1[i] == 0:\n",
    "            pol_cnt_c1_0_ra = pol_cnt_c1_0_ra + 1\n",
    "\n",
    "\n",
    "    if pol_cnt_c1_0_ra > pol_num_1_ra:\n",
    "        clus_1_ra = 0\n",
    "    else:\n",
    "        clus_1_ra = 1\n",
    "\n",
    "\n",
    "\n",
    "    # local cluster to class fixation done, based of given polling threshold\n",
    "    \n",
    "    y_train_pred_ra = np.zeros(X_train.shape[0])\n",
    "\n",
    "    for i in np.arange(0,X_train.shape[0]):\n",
    "        if y_train_pred_cluster[i] == 0:\n",
    "            y_train_pred_ra[i] = clus_0_ra\n",
    "        else:\n",
    "            y_train_pred_ra[i] = clus_1_ra\n",
    "\n",
    "    y_train_pred_ra = y_train_pred_ra.astype(int)\n",
    "    \n",
    "    \n",
    "    \n",
    "    \n",
    "    \n",
    "    \n",
    "    \n",
    "    \n",
    "    y_test_pred_ra = np.zeros(X_test.shape[0])\n",
    "    for i in np.arange(0,X_test.shape[0]):\n",
    "        if y_test_pred_cluster[i] == 0:\n",
    "            y_test_pred_ra[i] = clus_0_ra\n",
    "        else:\n",
    "            y_test_pred_ra[i] = clus_1_ra\n",
    "\n",
    "    y_test_pred_ra = y_test_pred_ra.astype(int)\n",
    "    \n",
    "    # _ra everywhere to ensure distinction and localisation to this ROC and AUC section\n",
    "    # this avoids any variable conflicts\n",
    "    \n",
    "    \n",
    "    confusion_matrix_train_ra = confusion_matrix(y_train,y_train_pred_ra)\n",
    "    ROC_df.iloc[ra,0] = confusion_matrix_train_ra[0][1]/(confusion_matrix_train_ra[0][1]+confusion_matrix_train_ra[0][0])\n",
    "    ROC_df.iloc[ra,1] = confusion_matrix_train_ra[1][1]/(confusion_matrix_train_ra[1][1]+confusion_matrix_train_ra[1][0])\n",
    "    \n",
    "    \n",
    "    confusion_matrix_test_ra = confusion_matrix(y_test,y_test_pred_ra)\n",
    "    ROC_df_test.iloc[ra,0] = confusion_matrix_test_ra[0][1]/(confusion_matrix_test_ra[0][1]+confusion_matrix_test_ra[0][0])\n",
    "    ROC_df_test.iloc[ra,1] = confusion_matrix_test_ra[1][1]/(confusion_matrix_test_ra[1][1]+confusion_matrix_test_ra[1][0])\n",
    "\n",
    "    \n",
    "\n",
    "\n",
    "    \n",
    "print(ROC_df)\n",
    "print(ROC_df_test)"
   ]
  },
  {
   "cell_type": "code",
   "execution_count": 616,
   "metadata": {},
   "outputs": [
    {
     "data": {
      "text/plain": [
       "Text(0, 0.5, 'TPR for Train')"
      ]
     },
     "execution_count": 616,
     "metadata": {},
     "output_type": "execute_result"
    },
    {
     "data": {
      "image/png": "[encoded data removed]",
      "text/plain": [
       "<Figure size 432x288 with 1 Axes>"
      ]
     },
     "metadata": {
      "needs_background": "light"
     },
     "output_type": "display_data"
    }
   ],
   "source": [
    "import matplotlib.pyplot as plt\n",
    "plt.plot(ROC_df['FPR'],ROC_df['TPR'])\n",
    "plt.xlim(0, 1)\n",
    "plt.ylim(0, 1)\n",
    "plt.xlabel('FPR for Train')\n",
    "plt.ylabel('TPR for Train')"
   ]
  },
  {
   "cell_type": "code",
   "execution_count": 617,
   "metadata": {},
   "outputs": [
    {
     "data": {
      "text/plain": [
       "Text(0, 0.5, 'TPR for Test')"
      ]
     },
     "execution_count": 617,
     "metadata": {},
     "output_type": "execute_result"
    },
    {
     "data": {
      "image/png": "[encoded data removed]",
      "text/plain": [
       "<Figure size 432x288 with 1 Axes>"
      ]
     },
     "metadata": {
      "needs_background": "light"
     },
     "output_type": "display_data"
    }
   ],
   "source": [
    "plt.plot(ROC_df_test['FPR'],ROC_df_test['TPR'])\n",
    "plt.xlim(0, 1)\n",
    "plt.ylim(0, 1)\n",
    "plt.xlabel('FPR for Test')\n",
    "plt.ylabel('TPR for Test')"
   ]
  },
  {
   "cell_type": "code",
   "execution_count": 618,
   "metadata": {},
   "outputs": [
    {
     "name": "stdout",
     "output_type": "stream",
     "text": [
      "The AUC for train is : \n",
      " 0.7989619017959099\n"
     ]
    }
   ],
   "source": [
    "from sklearn import metrics\n",
    "\n",
    "AUC_train = metrics.auc(ROC_df['FPR'],ROC_df['TPR'])\n",
    "print('The AUC for train is : \\n',AUC_train)"
   ]
  },
  {
   "cell_type": "code",
   "execution_count": 619,
   "metadata": {},
   "outputs": [
    {
     "name": "stdout",
     "output_type": "stream",
     "text": [
      "The AUC for test is : \n",
      " 0.7906976744186047\n"
     ]
    }
   ],
   "source": [
    "AUC_test = metrics.auc(ROC_df_test['FPR'],ROC_df_test['TPR'])\n",
    "print('The AUC for test is : \\n',AUC_test)"
   ]
  },
  {
   "cell_type": "markdown",
   "metadata": {},
   "source": [
    "Due to pol_thrsh algorithm that uses floor function, a threshold that should correspond to origin, corresponds very close\n",
    "to origin, but not quite\n",
    "\n",
    "Thus, this is why the ROC curves don't start from origin as is generally expected\n",
    "\n",
    "As such, one reason for this also how polling for kmeans is done\n",
    "\n",
    "This doesn't really affect the evaluational parameters, and the AUC\n",
    "\n",
    "Due to polling nature and due to how thresholds were defined, and how 'sensitive' kmeans polling is to these thresholds the ROC curves are obtained in these consequential fashion\n",
    "\n",
    "Again, this doesn't affect our consequential interpretations or the actual AUC which is obtained\n",
    "\n",
    "As such the curves are in fact sharp (were obtained from origin previously; by minor polling variation) and we can assume the initial portion to coincide with the y-axis, like it is here"
   ]
  }
 ],
 "metadata": {
  "kernelspec": {
   "display_name": "Python 3",
   "language": "python",
   "name": "python3"
  },
  "language_info": {
   "codemirror_mode": {
    "name": "ipython",
    "version": 3
   },
   "file_extension": ".py",
   "mimetype": "text/x-python",
   "name": "python",
   "nbconvert_exporter": "python",
   "pygments_lexer": "ipython3",
   "version": "3.7.6"
  }
 },
 "nbformat": 4,
 "nbformat_minor": 4
}
