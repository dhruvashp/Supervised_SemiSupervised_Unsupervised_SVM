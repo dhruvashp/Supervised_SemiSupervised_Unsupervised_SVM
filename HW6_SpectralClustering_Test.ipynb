{
 "cells": [
  {
   "cell_type": "markdown",
   "metadata": {},
   "source": [
    "HW6\n",
    "Spectral Clustering\n",
    "Single Monte Carlo Iteration\n",
    "\n",
    "Additionally for simplicity, gamma will be chosen 1 rather than finding a gamma that 'balances' the clusters in line with the original train\n",
    "\n",
    "NOTE :\n",
    "Data is NORMALIZED here\n",
    "\n",
    "Spectral Clustering without Normalization gave weird results with larger run times (only single cluster was obtained, despite n_clusters = 2)\n",
    "\n",
    "THUS\n",
    "Data for Spectral Clustering will be taken as NORMALIZED, again, only ONCE\n",
    "\n",
    "For KMeans, we performed all the operations over RAW data\n",
    "For Comparison, and if time permits, we may perform KMeans again with normalized data\n",
    "\n",
    "\n",
    "Data, here, for Spectral Clustering, ONCE WHOLE a priori NORMALIZED"
   ]
  },
  {
   "cell_type": "code",
   "execution_count": 146,
   "metadata": {},
   "outputs": [
    {
     "name": "stdout",
     "output_type": "stream",
     "text": [
      "           X1        X2        X3        X4        X5        X6        X7  \\\n",
      "0    0.016129  0.019645  0.105206  0.646400  0.000098  0.000120  0.000140   \n",
      "1    0.013871  0.012063  0.089169  0.649979  0.000073  0.000063  0.000031   \n",
      "2    0.015547  0.022945  0.099711  0.583676  0.000118  0.000091  0.000056   \n",
      "3    0.015343  0.019407  0.097872  0.632479  0.000091  0.000065  0.000025   \n",
      "4    0.012479  0.013833  0.080621  0.633850  0.000073  0.000064  0.000044   \n",
      "..        ...       ...       ...       ...       ...       ...       ...   \n",
      "352  0.017087  0.026370  0.111113  0.621093  0.000135  0.000166  0.000095   \n",
      "353  0.023793  0.041898  0.156159  0.651858  0.000252  0.000330  0.000246   \n",
      "354  0.016420  0.021414  0.105291  0.606570  0.000133  0.000098  0.000057   \n",
      "355  0.017271  0.016378  0.111015  0.610479  0.000142  0.000101  0.000053   \n",
      "356  0.013891  0.022823  0.089856  0.629665  0.000085  0.000082  0.000029   \n",
      "\n",
      "           X8        X9       X10  ...       X22       X23       X24  \\\n",
      "0    0.000042  0.000179  0.000074  ...  0.024637  0.115266  0.745249   \n",
      "1    0.000024  0.000157  0.000051  ...  0.014364  0.095424  0.747960   \n",
      "2    0.000026  0.000216  0.000075  ...  0.030610  0.119498  0.795297   \n",
      "3    0.000017  0.000189  0.000065  ...  0.024846  0.107352  0.759685   \n",
      "4    0.000037  0.000113  0.000042  ...  0.019248  0.088638  0.763101   \n",
      "..        ...       ...       ...  ...       ...       ...       ...   \n",
      "352  0.000045  0.000283  0.000091  ...  0.038944  0.123874  0.763361   \n",
      "353  0.000061  0.000347  0.000190  ...  0.045380  0.168388  0.717789   \n",
      "354  0.000025  0.000284  0.000082  ...  0.034071  0.120110  0.777061   \n",
      "355  0.000040  0.000252  0.000093  ...  0.024174  0.126758  0.772748   \n",
      "356  0.000028  0.000160  0.000056  ...  0.027659  0.097771  0.763636   \n",
      "\n",
      "          X25       X26       X27       X28       X29       X30  y  \n",
      "0    0.000124  0.000290  0.000418  0.000127  0.000250  0.000089  0  \n",
      "1    0.000103  0.000159  0.000124  0.000075  0.000227  0.000062  0  \n",
      "2    0.000174  0.000276  0.000307  0.000112  0.000410  0.000095  0  \n",
      "3    0.000139  0.000192  0.000156  0.000080  0.000314  0.000087  0  \n",
      "4    0.000101  0.000127  0.000126  0.000069  0.000181  0.000049  0  \n",
      "..        ...       ...       ...       ...       ...       ... ..  \n",
      "352  0.000202  0.000438  0.000403  0.000164  0.000488  0.000120  0  \n",
      "353  0.000313  0.000500  0.000410  0.000102  0.000439  0.000205  0  \n",
      "354  0.000188  0.000274  0.000310  0.000104  0.000462  0.000108  0  \n",
      "355  0.000234  0.000362  0.000318  0.000136  0.000457  0.000129  0  \n",
      "356  0.000106  0.000168  0.000087  0.000066  0.000240  0.000069  0  \n",
      "\n",
      "[357 rows x 31 columns]\n",
      "           X1        X2        X3        X4        X5        X6        X7  \\\n",
      "0    0.008571  0.008335  0.056097  0.562184  0.000039  0.000048  0.000064   \n",
      "1    0.013776  0.020399  0.089808  0.652673  0.000082  0.000093  0.000101   \n",
      "2    0.010503  0.013403  0.068463  0.638519  0.000055  0.000053  0.000089   \n",
      "3    0.012823  0.020770  0.084504  0.579814  0.000102  0.000128  0.000110   \n",
      "4    0.009434  0.008441  0.062823  0.525789  0.000056  0.000112  0.000088   \n",
      "..        ...       ...       ...       ...       ...       ...       ...   \n",
      "207  0.015863  0.022289  0.106188  0.580747  0.000147  0.000229  0.000223   \n",
      "208  0.017418  0.029601  0.115230  0.568449  0.000191  0.000339  0.000266   \n",
      "209  0.010822  0.012125  0.070601  0.546133  0.000065  0.000076  0.000063   \n",
      "210  0.012461  0.014645  0.080727  0.565211  0.000097  0.000109  0.000128   \n",
      "211  0.007925  0.004573  0.054099  0.440986  0.000052  0.000122  0.000132   \n",
      "\n",
      "           X8        X9       X10  ...       X22       X23       X24  \\\n",
      "0    0.000047  0.000063  0.000023  ...  0.013027  0.068323  0.821342   \n",
      "1    0.000067  0.000154  0.000055  ...  0.023160  0.096350  0.744721   \n",
      "2    0.000049  0.000089  0.000029  ...  0.016598  0.074950  0.761827   \n",
      "3    0.000078  0.000169  0.000058  ...  0.028969  0.099426  0.802613   \n",
      "4    0.000056  0.000112  0.000035  ...  0.009883  0.078450  0.841472   \n",
      "..        ...       ...       ...  ...       ...       ...       ...   \n",
      "207  0.000100  0.000360  0.000099  ...  0.035463  0.123584  0.795435   \n",
      "208  0.000100  0.000345  0.000125  ...  0.051594  0.144250  0.798753   \n",
      "209  0.000040  0.000125  0.000042  ...  0.016975  0.086656  0.828268   \n",
      "210  0.000072  0.000163  0.000052  ...  0.017862  0.101190  0.809683   \n",
      "211  0.000065  0.000107  0.000035  ...  0.007635  0.081325  0.889462   \n",
      "\n",
      "          X25       X26       X27       X28       X29       X30  y  \n",
      "0    0.000056  0.000126  0.000179  0.000093  0.000092  0.000030  1  \n",
      "1    0.000113  0.000179  0.000255  0.000132  0.000229  0.000061  1  \n",
      "2    0.000082  0.000099  0.000213  0.000079  0.000123  0.000033  1  \n",
      "3    0.000143  0.000296  0.000262  0.000140  0.000288  0.000077  1  \n",
      "4    0.000077  0.000294  0.000198  0.000110  0.000196  0.000058  1  \n",
      "..        ...       ...       ...       ...       ...       ... ..  \n",
      "207  0.000186  0.000550  0.000605  0.000251  0.000776  0.000138  1  \n",
      "208  0.000343  0.001474  0.001321  0.000397  0.000653  0.000221  1  \n",
      "209  0.000088  0.000150  0.000188  0.000082  0.000188  0.000055  1  \n",
      "210  0.000118  0.000180  0.000280  0.000139  0.000285  0.000060  1  \n",
      "211  0.000071  0.000293  0.000314  0.000117  0.000203  0.000052  1  \n",
      "\n",
      "[212 rows x 31 columns]\n"
     ]
    }
   ],
   "source": [
    "import pandas as pd\n",
    "import numpy as np\n",
    "import warnings\n",
    "warnings.filterwarnings(\"ignore\")  \n",
    "from sklearn.preprocessing import normalize\n",
    "\n",
    "df = pd.read_csv('wdbc.csv', header = None)\n",
    "\n",
    "\n",
    "output = df.iloc[:,0]\n",
    "\n",
    "\n",
    "for i in np.arange(0,df.shape[0]):\n",
    "    if output.iloc[i] == 'B':\n",
    "        output.iloc[i] = 0\n",
    "    else:\n",
    "        output.iloc[i] = 1\n",
    "\n",
    "\n",
    "\n",
    "features = df.iloc[:,1:]\n",
    "\n",
    "\n",
    "\n",
    "\n",
    "features_normal = normalize(features)\n",
    "\n",
    "\n",
    "features_normal_df = pd.DataFrame(features_normal)\n",
    "\n",
    "\n",
    "norm_whole = pd.concat([features_normal_df,output],axis=1)\n",
    "\n",
    "\n",
    "col_head = norm_whole.columns\n",
    "\n",
    "\n",
    "norm_whole.columns= ['X1','X2','X3','X4','X5','X6','X7','X8','X9','X10','X11','X12','X13','X14','X15','X16','X17','X18','X19','X20','X21','X22','X23','X24','X25','X26','X27','X28','X29','X30','y']\n",
    "\n",
    "\n",
    "norm_whole.sort_values(by=['y'],inplace=True)\n",
    "\n",
    "\n",
    "norm_whole.reset_index(drop=True,inplace=True)\n",
    "\n",
    "\n",
    "X_y_0 = norm_whole.iloc[0:357,:]\n",
    "X_y_1 = norm_whole.iloc[357:569,:]\n",
    "X_y_1.reset_index(drop=True,inplace=True)\n",
    "\n",
    "print(X_y_0)             \n",
    "print(X_y_1)"
   ]
  },
  {
   "cell_type": "code",
   "execution_count": 147,
   "metadata": {},
   "outputs": [
    {
     "name": "stdout",
     "output_type": "stream",
     "text": [
      "           X1        X2        X3        X4        X5        X6        X7  \\\n",
      "0    0.012712  0.019313  0.083631  0.535813  0.000110  0.000153  0.000087   \n",
      "1    0.017223  0.030666  0.110656  0.628386  0.000142  0.000118  0.000037   \n",
      "2    0.017032  0.031194  0.109796  0.597249  0.000164  0.000139  0.000068   \n",
      "3    0.016420  0.021414  0.105291  0.606570  0.000133  0.000098  0.000057   \n",
      "4    0.009222  0.012803  0.060743  0.547744  0.000049  0.000070  0.000092   \n",
      "..        ...       ...       ...       ...       ...       ...       ...   \n",
      "449  0.018629  0.025192  0.119247  0.628884  0.000135  0.000119  0.000060   \n",
      "450  0.013891  0.022823  0.089856  0.629665  0.000085  0.000082  0.000029   \n",
      "451  0.013510  0.016500  0.088482  0.582980  0.000106  0.000124  0.000095   \n",
      "452  0.008610  0.009831  0.056378  0.500936  0.000042  0.000064  0.000049   \n",
      "453  0.016406  0.023998  0.104639  0.600502  0.000126  0.000087  0.000040   \n",
      "\n",
      "           X8        X9       X10  ...       X21       X22       X23  \\\n",
      "0    0.000055  0.000204  0.000069  ...  0.015818  0.026091  0.102545   \n",
      "1    0.000032  0.000292  0.000091  ...  0.018904  0.039415  0.123258   \n",
      "2    0.000033  0.000274  0.000104  ...  0.019502  0.047839  0.125742   \n",
      "3    0.000025  0.000284  0.000082  ...  0.018705  0.034071  0.120110   \n",
      "4    0.000047  0.000092  0.000030  ...  0.011417  0.017279  0.076915   \n",
      "..        ...       ...       ...  ...       ...       ...       ...   \n",
      "449  0.000035  0.000338  0.000105  ...  0.020400  0.035148  0.134534   \n",
      "450  0.000028  0.000160  0.000056  ...  0.015307  0.027659  0.097771   \n",
      "451  0.000051  0.000185  0.000059  ...  0.015862  0.021359  0.104615   \n",
      "452  0.000028  0.000090  0.000028  ...  0.011257  0.015767  0.073902   \n",
      "453  0.000023  0.000257  0.000084  ...  0.018701  0.034050  0.119572   \n",
      "\n",
      "          X24       X25       X26       X27       X28       X29       X30  \n",
      "0    0.831674  0.000153  0.000341  0.000248  0.000144  0.000296  0.000107  \n",
      "1    0.757453  0.000207  0.000317  0.000169  0.000120  0.000445  0.000106  \n",
      "2    0.781110  0.000232  0.000249  0.000261  0.000091  0.000411  0.000132  \n",
      "3    0.777061  0.000188  0.000274  0.000310  0.000104  0.000462  0.000108  \n",
      "4    0.829798  0.000086  0.000185  0.000277  0.000090  0.000157  0.000047  \n",
      "..        ...       ...       ...       ...       ...       ...       ...  \n",
      "449  0.754424  0.000185  0.000334  0.000262  0.000114  0.000540  0.000123  \n",
      "450  0.763636  0.000106  0.000168  0.000087  0.000066  0.000240  0.000069  \n",
      "451  0.799371  0.000146  0.000316  0.000311  0.000133  0.000297  0.000077  \n",
      "452  0.859205  0.000069  0.000221  0.000213  0.000094  0.000169  0.000045  \n",
      "453  0.781389  0.000173  0.000240  0.000201  0.000074  0.000386  0.000113  \n",
      "\n",
      "[454 rows x 30 columns]\n",
      "0      1\n",
      "1      0\n",
      "2      0\n",
      "3      0\n",
      "4      1\n",
      "      ..\n",
      "449    0\n",
      "450    0\n",
      "451    1\n",
      "452    1\n",
      "453    0\n",
      "Name: y, Length: 454, dtype: int32\n",
      "           X1        X2        X3        X4        X5        X6        X7  \\\n",
      "0    0.009434  0.008441  0.062823  0.525789  0.000056  0.000112  0.000088   \n",
      "1    0.016894  0.018418  0.109595  0.631681  0.000148  0.000132  0.000040   \n",
      "2    0.016129  0.019645  0.105206  0.646400  0.000098  0.000120  0.000140   \n",
      "3    0.009789  0.011627  0.069705  0.603916  0.000062  0.000168  0.000182   \n",
      "4    0.013652  0.020643  0.093551  0.627643  0.000091  0.000204  0.000250   \n",
      "..        ...       ...       ...       ...       ...       ...       ...   \n",
      "110  0.011037  0.014235  0.072591  0.573274  0.000063  0.000088  0.000089   \n",
      "111  0.006925  0.008892  0.045750  0.376233  0.000047  0.000061  0.000063   \n",
      "112  0.012735  0.025091  0.081401  0.605604  0.000070  0.000039  0.000039   \n",
      "113  0.007068  0.006070  0.046560  0.514888  0.000029  0.000039  0.000051   \n",
      "114  0.009181  0.011011  0.062755  0.591130  0.000048  0.000098  0.000139   \n",
      "\n",
      "           X8        X9       X10  ...       X21       X22       X23  \\\n",
      "0    0.000056  0.000112  0.000035  ...  0.011702  0.009883  0.078450   \n",
      "1    0.000040  0.000261  0.000090  ...  0.018488  0.024682  0.126641   \n",
      "2    0.000042  0.000179  0.000074  ...  0.017392  0.024637  0.115266   \n",
      "3    0.000078  0.000141  0.000039  ...  0.011336  0.015387  0.082608   \n",
      "4    0.000089  0.000187  0.000063  ...  0.014981  0.025261  0.114900   \n",
      "..        ...       ...       ...  ...       ...       ...       ...   \n",
      "110  0.000040  0.000125  0.000037  ...  0.013193  0.019133  0.088019   \n",
      "111  0.000038  0.000083  0.000026  ...  0.011005  0.013126  0.073616   \n",
      "112  0.000023  0.000156  0.000045  ...  0.014528  0.031067  0.092671   \n",
      "113  0.000031  0.000046  0.000017  ...  0.009425  0.007307  0.064744   \n",
      "114  0.000065  0.000094  0.000030  ...  0.010660  0.012907  0.078598   \n",
      "\n",
      "          X24       X25       X26       X27       X28       X29       X30  \n",
      "0    0.841472  0.000077  0.000294  0.000198  0.000110  0.000196  0.000058  \n",
      "1    0.755578  0.000198  0.000358  0.000137  0.000113  0.000481  0.000128  \n",
      "2    0.745249  0.000124  0.000290  0.000418  0.000127  0.000250  0.000089  \n",
      "3    0.787273  0.000080  0.000299  0.000373  0.000122  0.000264  0.000048  \n",
      "4    0.762976  0.000130  0.000650  0.000826  0.000227  0.000263  0.000106  \n",
      "..        ...       ...       ...       ...       ...       ...       ...  \n",
      "110  0.810298  0.000103  0.000253  0.000357  0.000120  0.000321  0.000057  \n",
      "111  0.921243  0.000075  0.000149  0.000195  0.000087  0.000150  0.000040  \n",
      "112  0.783960  0.000097  0.000083  0.000130  0.000055  0.000272  0.000052  \n",
      "113  0.851616  0.000037  0.000111  0.000116  0.000069  0.000089  0.000022  \n",
      "114  0.798267  0.000062  0.000184  0.000290  0.000112  0.000129  0.000043  \n",
      "\n",
      "[115 rows x 30 columns]\n",
      "0      1\n",
      "1      0\n",
      "2      0\n",
      "3      1\n",
      "4      1\n",
      "      ..\n",
      "110    1\n",
      "111    1\n",
      "112    1\n",
      "113    1\n",
      "114    1\n",
      "Name: y, Length: 115, dtype: int32\n"
     ]
    }
   ],
   "source": [
    "from sklearn.model_selection import train_test_split\n",
    "\n",
    "X_y_train_0,X_y_test_0 = train_test_split(X_y_0,test_size = 0.2,shuffle=True)\n",
    "X_y_train_1,X_y_test_1 = train_test_split(X_y_1,test_size = 0.2,shuffle=True)\n",
    "\n",
    "\n",
    "\n",
    "X_y_train = pd.concat([X_y_train_0,X_y_train_1],axis=0)\n",
    "X_y_test = pd.concat([X_y_test_0,X_y_test_1],axis=0)\n",
    "\n",
    "\n",
    "from sklearn.utils import shuffle\n",
    "\n",
    "X_y_train = shuffle(X_y_train)\n",
    "X_y_test = shuffle(X_y_test)\n",
    "\n",
    "\n",
    "\n",
    "X_y_train.reset_index(drop=True,inplace=True)\n",
    "X_y_test.reset_index(drop=True,inplace=True)\n",
    "\n",
    "\n",
    "X_train = X_y_train.drop(columns=['y'])\n",
    "X_test = X_y_test.drop(columns=['y'])\n",
    "y_train = X_y_train['y'].astype(int)\n",
    "y_test =  X_y_test['y'].astype(int)\n",
    "print(X_train)\n",
    "print(y_train)\n",
    "print(X_test)\n",
    "print(y_test)\n"
   ]
  },
  {
   "cell_type": "code",
   "execution_count": 148,
   "metadata": {},
   "outputs": [
    {
     "name": "stdout",
     "output_type": "stream",
     "text": [
      "[1 0 0 0 1 0 0 1 0 0 0 1 0 0 1 0 1 0 0 0 0 0 0 0 0 1 1 0 0 1 0 0 0 0 0 1 0\n",
      " 0 0 0 1 0 1 1 0 1 1 0 1 0 0 1 1 0 0 0 1 1 0 1 0 0 0 0 0 1 0 1 1 0 0 0 0 0\n",
      " 0 1 0 0 0 0 0 0 1 0 1 1 0 1 0 0 0 0 0 0 0 0 0 1 0 1 0 1 0 0 1 0 1 0 0 0 0\n",
      " 0 0 0 0 0 1 1 1 0 0 0 0 0 0 0 0 0 1 0 0 0 0 1 0 1 0 0 0 1 0 1 1 0 1 0 0 0\n",
      " 0 1 1 1 0 1 0 0 0 1 0 0 0 1 0 0 1 1 1 0 1 0 0 1 0 0 0 0 0 0 0 1 0 0 1 0 0\n",
      " 1 1 0 1 0 0 0 0 0 1 0 1 0 0 0 0 0 0 0 0 1 0 0 0 0 0 1 1 0 0 0 0 1 1 0 0 0\n",
      " 0 0 1 1 0 0 0 0 1 0 0 1 0 0 0 1 0 0 1 1 0 0 1 1 0 1 0 0 1 1 1 0 0 1 0 1 0\n",
      " 0 1 0 0 0 0 0 1 0 0 0 1 0 0 0 0 0 0 0 0 0 1 0 1 0 0 1 0 0 0 1 0 0 0 0 1 0\n",
      " 0 0 1 0 0 0 0 0 0 0 0 0 1 0 0 0 1 0 0 0 0 0 0 0 0 0 1 0 0 0 0 0 0 0 1 0 0\n",
      " 0 0 0 0 0 1 0 0 1 0 0 0 0 0 1 1 0 0 0 0 0 1 0 1 0 1 0 0 0 0 0 0 0 0 0 0 0\n",
      " 1 0 0 0 0 0 1 0 0 1 0 1 0 0 0 0 0 0 1 1 0 0 0 1 0 1 0 0 0 0 0 1 1 1 0 1 0\n",
      " 0 0 0 0 0 0 1 0 0 0 1 0 0 1 1 0 0 0 0 1 1 1 0 1 1 0 0 1 0 0 1 0 0 1 0 0 0\n",
      " 1 0 1 0 0 0 0 1 1 0]\n"
     ]
    }
   ],
   "source": [
    "from sklearn.cluster import SpectralClustering\n",
    "\n",
    "\n",
    "\n",
    "\n",
    "specclus = SpectralClustering(n_clusters=2,gamma=1,affinity='rbf',n_init=10).fit(X_train)  # gamma selected as 1 for simplicity\n",
    "\n",
    "\n",
    "    \n",
    "# NOTE : Both KMeans and SpectralCLustering have n_init = 10. As such the external loop is not required.\n",
    "# FOR KMeans ---- The external loop was used, to increase chances of global optimal even more\n",
    "# In KMeans, thus, each external iteration has 10 more internal iterations, and we assume that by the final iteration\n",
    "# (where again KMeans will be internally done 10 more times) the algorithm has converged, or the overall chances of the \n",
    "# algorithm converging have increased\n",
    "\n",
    "# FOR SpectralClustering : External loop, again, as such not needed, could be used like it was in KMeans to increase\n",
    "# chances of convergence even more (convergence to global optimal assumed as we reach the final iteration)\n",
    "\n",
    "# However the external loop for SpectralClustering, hasn't been used, as it does increase the run times \n",
    "# As is, the external loop was not completely necessary, as internally, both KMeans and SpectralClustering, run the \n",
    "# loops multiple times to pick the most minimal inertia fit (global optimal) (objective function) over all the times\n",
    "\n",
    "# In conclusion : external loop may be used, though not completely necessary, as the functions do it internally, and for KMeans\n",
    "# it has been used, but for SpectralClustering, hasn't been used, due to large run times in general.\n",
    "\n",
    "y_train_pred_cluster = specclus.labels_\n",
    "\n",
    "print(y_train_pred_cluster)    "
   ]
  },
  {
   "cell_type": "code",
   "execution_count": 149,
   "metadata": {},
   "outputs": [
    {
     "name": "stdout",
     "output_type": "stream",
     "text": [
      "[  1   2   3   5   6   8   9  10  12  13  15  17  18  19  20  21  22  23\n",
      "  24  27  28  30  31  32  33  34  36  37  38  39  41  44  47  49  50  53\n",
      "  54  55  58  60  61  62  63  64  66  69  70  71  72  73  74  76  77  78\n",
      "  79  80  81  83  86  88  89  90  91  92  93  94  95  96  98 100 102 103\n",
      " 105 107 108 109 110 111 112 113 114 115 119 120 121 122 123 124 125 126\n",
      " 127 129 130 131 132 134 136 137 138 140 143 145 146 147 148 152 154 155\n",
      " 156 158 159 160 162 163 167 169 170 172 173 174 175 176 177 178 180 181\n",
      " 183 184 187 189 190 191 192 193 195 197 198 199 200 201 202 203 204 206\n",
      " 207 208 209 210 213 214 215 216 219 220 221 222 223 226 227 228 229 231\n",
      " 232 234 235 236 238 239 242 243 246 248 249 253 254 256 258 259 261 262\n",
      " 263 264 265 267 268 269 271 272 273 274 275 276 277 278 279 281 283 284\n",
      " 286 287 288 290 291 292 293 295 296 297 299 300 301 302 303 304 305 306\n",
      " 307 309 310 311 313 314 315 316 317 318 319 320 321 323 324 325 326 327\n",
      " 328 329 331 332 333 334 335 336 337 339 340 342 343 344 345 346 349 350\n",
      " 351 352 353 355 357 359 360 361 362 363 364 365 366 367 368 369 371 372\n",
      " 373 374 375 377 378 380 382 383 384 385 386 387 390 391 392 394 396 397\n",
      " 398 399 400 404 406 407 408 409 410 411 412 414 415 416 418 419 422 423\n",
      " 424 425 429 432 433 435 436 438 439 441 442 443 445 447 448 449 450 453]\n",
      "[  0   4   7  11  14  16  25  26  29  35  40  42  43  45  46  48  51  52\n",
      "  56  57  59  65  67  68  75  82  84  85  87  97  99 101 104 106 116 117\n",
      " 118 128 133 135 139 141 142 144 149 150 151 153 157 161 164 165 166 168\n",
      " 171 179 182 185 186 188 194 196 205 211 212 217 218 224 225 230 233 237\n",
      " 240 241 244 245 247 250 251 252 255 257 260 266 270 280 282 285 289 294\n",
      " 298 308 312 322 330 338 341 347 348 354 356 358 370 376 379 381 388 389\n",
      " 393 395 401 402 403 405 413 417 420 421 426 427 428 430 431 434 437 440\n",
      " 444 446 451 452]\n"
     ]
    }
   ],
   "source": [
    "# Polling will be done over all the cluster points in each cluster\n",
    "\n",
    "all_indx = np.arange(0,X_train.shape[0])\n",
    "\n",
    "\n",
    "list_cluster_0 = []        \n",
    "list_cluster_1 = []         \n",
    "\n",
    "for i in all_indx:\n",
    "    if y_train_pred_cluster[i] == 0:\n",
    "        list_cluster_0.append(i)\n",
    "    else:\n",
    "        list_cluster_1.append(i)\n",
    "        \n",
    "\n",
    "sel_indx_0_cls = np.array(list_cluster_0).flatten()  # sel_indx_0_cls contains indices of ALL samples in cluster 0\n",
    "sel_indx_1_cls = np.array(list_cluster_1).flatten()  # sel_indx_1_cls contains indices of ALL samples in cluster 1\n",
    "\n",
    "print(sel_indx_0_cls)\n",
    "print(sel_indx_1_cls)"
   ]
  },
  {
   "cell_type": "code",
   "execution_count": 150,
   "metadata": {},
   "outputs": [
    {
     "name": "stdout",
     "output_type": "stream",
     "text": [
      "1      0\n",
      "2      0\n",
      "3      0\n",
      "5      0\n",
      "6      0\n",
      "      ..\n",
      "447    0\n",
      "448    0\n",
      "449    0\n",
      "450    0\n",
      "453    0\n",
      "Name: y, Length: 324, dtype: int32\n",
      "0      1\n",
      "4      1\n",
      "7      1\n",
      "11     1\n",
      "14     1\n",
      "      ..\n",
      "440    1\n",
      "444    1\n",
      "446    1\n",
      "451    1\n",
      "452    1\n",
      "Name: y, Length: 130, dtype: int32\n"
     ]
    }
   ],
   "source": [
    "y_train_read_0 = y_train[sel_indx_0_cls]    # has true labels of all samples in cluster 0\n",
    "y_train_read_1 = y_train[sel_indx_1_cls]    # has true labels of all samples in cluster 1\n",
    "\n",
    "print(y_train_read_0)\n",
    "print(y_train_read_1)"
   ]
  },
  {
   "cell_type": "code",
   "execution_count": 151,
   "metadata": {},
   "outputs": [
    {
     "name": "stdout",
     "output_type": "stream",
     "text": [
      "0\n",
      "1\n"
     ]
    }
   ],
   "source": [
    "import math\n",
    "pol_thrsh = 0.5 \n",
    "\n",
    "read_labels_0 = y_train_read_0.to_numpy().flatten()   \n",
    "read_labels_1 = y_train_read_1.to_numpy().flatten()   \n",
    "\n",
    "pol_num_0 = math.floor(pol_thrsh*read_labels_0.size)    \n",
    "pol_num_1 = math.floor(pol_thrsh*read_labels_1.size)     \n",
    "\n",
    "\n",
    "pol_cnt_c0_0 = 0                   \n",
    "pol_cnt_c1_0 = 0                   \n",
    "\n",
    "for i in np.arange(0,read_labels_0.size):\n",
    "    if read_labels_0[i] == 0:\n",
    "        pol_cnt_c0_0 = pol_cnt_c0_0 + 1\n",
    "        \n",
    "\n",
    "if pol_cnt_c0_0 > pol_num_0:\n",
    "    clus_0 = 0\n",
    "else:\n",
    "    clus_0 = 1\n",
    "    \n",
    "\n",
    "\n",
    "for i in np.arange(0,read_labels_1.size):\n",
    "    if read_labels_1[i] == 0:\n",
    "        pol_cnt_c1_0 = pol_cnt_c1_0 + 1\n",
    "        \n",
    "\n",
    "if pol_cnt_c1_0 > pol_num_1:\n",
    "    clus_1 = 0\n",
    "else:\n",
    "    clus_1 = 1\n",
    "    \n",
    "\n",
    "    \n",
    "print(clus_0)\n",
    "print(clus_1)"
   ]
  },
  {
   "cell_type": "code",
   "execution_count": 152,
   "metadata": {},
   "outputs": [
    {
     "name": "stdout",
     "output_type": "stream",
     "text": [
      "[1 0 0 0 1 0 0 1 0 0 0 1 0 0 1 0 1 0 0 0 0 0 0 0 0 1 1 0 0 1 0 0 0 0 0 1 0\n",
      " 0 0 0 1 0 1 1 0 1 1 0 1 0 0 1 1 0 0 0 1 1 0 1 0 0 0 0 0 1 0 1 1 0 0 0 0 0\n",
      " 0 1 0 0 0 0 0 0 1 0 1 1 0 1 0 0 0 0 0 0 0 0 0 1 0 1 0 1 0 0 1 0 1 0 0 0 0\n",
      " 0 0 0 0 0 1 1 1 0 0 0 0 0 0 0 0 0 1 0 0 0 0 1 0 1 0 0 0 1 0 1 1 0 1 0 0 0\n",
      " 0 1 1 1 0 1 0 0 0 1 0 0 0 1 0 0 1 1 1 0 1 0 0 1 0 0 0 0 0 0 0 1 0 0 1 0 0\n",
      " 1 1 0 1 0 0 0 0 0 1 0 1 0 0 0 0 0 0 0 0 1 0 0 0 0 0 1 1 0 0 0 0 1 1 0 0 0\n",
      " 0 0 1 1 0 0 0 0 1 0 0 1 0 0 0 1 0 0 1 1 0 0 1 1 0 1 0 0 1 1 1 0 0 1 0 1 0\n",
      " 0 1 0 0 0 0 0 1 0 0 0 1 0 0 0 0 0 0 0 0 0 1 0 1 0 0 1 0 0 0 1 0 0 0 0 1 0\n",
      " 0 0 1 0 0 0 0 0 0 0 0 0 1 0 0 0 1 0 0 0 0 0 0 0 0 0 1 0 0 0 0 0 0 0 1 0 0\n",
      " 0 0 0 0 0 1 0 0 1 0 0 0 0 0 1 1 0 0 0 0 0 1 0 1 0 1 0 0 0 0 0 0 0 0 0 0 0\n",
      " 1 0 0 0 0 0 1 0 0 1 0 1 0 0 0 0 0 0 1 1 0 0 0 1 0 1 0 0 0 0 0 1 1 1 0 1 0\n",
      " 0 0 0 0 0 0 1 0 0 0 1 0 0 1 1 0 0 0 0 1 1 1 0 1 1 0 0 1 0 0 1 0 0 1 0 0 0\n",
      " 1 0 1 0 0 0 0 1 1 0]\n"
     ]
    }
   ],
   "source": [
    "y_train_pred = np.zeros(X_train.shape[0])\n",
    "\n",
    "for i in np.arange(0,X_train.shape[0]):\n",
    "    if y_train_pred_cluster[i] == 0:\n",
    "        y_train_pred[i] = clus_0\n",
    "    else:\n",
    "        y_train_pred[i] = clus_1\n",
    "        \n",
    "y_train_pred = y_train_pred.astype(int)\n",
    "print(y_train_pred)"
   ]
  },
  {
   "cell_type": "code",
   "execution_count": 153,
   "metadata": {},
   "outputs": [
    {
     "name": "stdout",
     "output_type": "stream",
     "text": [
      "The training error is : \n",
      " 11.233480176211454 %\n"
     ]
    }
   ],
   "source": [
    "mis = 0\n",
    "for l in np.arange(0,X_train.shape[0]):\n",
    "    if y_train_pred[l] != y_train.iloc[l]:\n",
    "        mis = mis + 1\n",
    "\n",
    "train_error = (mis/X_train.shape[0])*100\n",
    "print('The training error is : \\n',train_error,'%')"
   ]
  },
  {
   "cell_type": "code",
   "execution_count": 154,
   "metadata": {},
   "outputs": [
    {
     "name": "stdout",
     "output_type": "stream",
     "text": [
      "The confusion matrix for training is : \n",
      " [[279   6]\n",
      " [ 45 124]]\n"
     ]
    }
   ],
   "source": [
    "from sklearn.metrics import confusion_matrix\n",
    "\n",
    "confusion_matrix_train = confusion_matrix(y_train,y_train_pred)\n",
    "\n",
    "print('The confusion matrix for training is : \\n',confusion_matrix_train)"
   ]
  },
  {
   "cell_type": "code",
   "execution_count": 155,
   "metadata": {},
   "outputs": [
    {
     "name": "stdout",
     "output_type": "stream",
     "text": [
      "The confusion matrix for train, appropriately indexed is : \n",
      "             Predicted 0  Predicted 1\n",
      "Actually 0          279            6\n",
      "Actually 1           45          124\n"
     ]
    }
   ],
   "source": [
    "confusion_matrix_train_df = pd.DataFrame(confusion_matrix_train,index=['Actually 0','Actually 1'],columns=['Predicted 0','Predicted 1'])\n",
    "print('The confusion matrix for train, appropriately indexed is : \\n',confusion_matrix_train_df)"
   ]
  },
  {
   "cell_type": "code",
   "execution_count": 156,
   "metadata": {},
   "outputs": [
    {
     "name": "stdout",
     "output_type": "stream",
     "text": [
      "The precision for train is : \n",
      " 95.38461538461539 %\n",
      "The recall for train is : \n",
      " 73.37278106508876 %\n"
     ]
    }
   ],
   "source": [
    "precision_train = (confusion_matrix_train[1][1]/(confusion_matrix_train[1][1]+confusion_matrix_train[0][1]))*100\n",
    "recall_train = (confusion_matrix_train[1][1]/(confusion_matrix_train[1][1]+confusion_matrix_train[1][0]))*100\n",
    "\n",
    "print('The precision for train is : \\n',precision_train,'%')\n",
    "print('The recall for train is : \\n',recall_train,'%')"
   ]
  },
  {
   "cell_type": "code",
   "execution_count": 157,
   "metadata": {},
   "outputs": [
    {
     "name": "stdout",
     "output_type": "stream",
     "text": [
      "The accuracy for training is : \n",
      " 88.76651982378854 %\n",
      "The f1 score for training is : \n",
      " 0.8294314381270904\n"
     ]
    }
   ],
   "source": [
    "accuracy_train = ((confusion_matrix_train[0][0]+confusion_matrix_train[1][1])/(confusion_matrix_train[0][0]+confusion_matrix_train[1][1]+confusion_matrix_train[0][1]+confusion_matrix_train[1][0]))*100\n",
    "f1_train = ((2*(precision_train/100)*(recall_train/100))/((precision_train/100)+(recall_train/100))) # divided by 100 as precision and recall specified in percentage\n",
    "print('The accuracy for training is : \\n',accuracy_train,'%')\n",
    "print('The f1 score for training is : \\n',f1_train)"
   ]
  },
  {
   "cell_type": "code",
   "execution_count": 158,
   "metadata": {
    "scrolled": true
   },
   "outputs": [
    {
     "name": "stdout",
     "output_type": "stream",
     "text": [
      "[1 0 0 0 0 0 0 0 0 1 0 0 0 1 0 1 0 1 0 1 0 0 0 0 0 0 0 0 0 0 0 0 0 1 0 1 0\n",
      " 0 0 1 0 0 0 0 0 0 0 0 0 1 0 0 0 0 0 0 0 1 0 1 0 1 1 0 0 0 0 0 0 1 0 1 0 0\n",
      " 1 0 0 1 0 0 0 0 0 0 1 1 1 0 0 0 0 1 1 0 1 0 0 0 0 0 0 0 0 0 0 0 1 0 1 1 1\n",
      " 1 0 1 1]\n"
     ]
    }
   ],
   "source": [
    "from sklearn.neighbors import KNeighborsClassifier\n",
    "\n",
    "neigh = KNeighborsClassifier(n_neighbors=1).fit(X_train,y_train_pred_cluster)       # KNN to obtain test cluster assignment, classify test point to the cluster of the point closest to it\n",
    "y_test_pred_cluster = neigh.predict(X_test)\n",
    "\n",
    "print(y_test_pred_cluster)"
   ]
  },
  {
   "cell_type": "code",
   "execution_count": 159,
   "metadata": {},
   "outputs": [
    {
     "name": "stdout",
     "output_type": "stream",
     "text": [
      "[1 0 0 0 0 0 0 0 0 1 0 0 0 1 0 1 0 1 0 1 0 0 0 0 0 0 0 0 0 0 0 0 0 1 0 1 0\n",
      " 0 0 1 0 0 0 0 0 0 0 0 0 1 0 0 0 0 0 0 0 1 0 1 0 1 1 0 0 0 0 0 0 1 0 1 0 0\n",
      " 1 0 0 1 0 0 0 0 0 0 1 1 1 0 0 0 0 1 1 0 1 0 0 0 0 0 0 0 0 0 0 0 1 0 1 1 1\n",
      " 1 0 1 1]\n"
     ]
    }
   ],
   "source": [
    "y_test_pred = np.zeros(X_test.shape[0])\n",
    "for i in np.arange(0,X_test.shape[0]):\n",
    "    if y_test_pred_cluster[i] == 0:\n",
    "        y_test_pred[i] = clus_0\n",
    "    else:\n",
    "        y_test_pred[i] = clus_1\n",
    "\n",
    "y_test_pred = y_test_pred.astype(int)\n",
    "print(y_test_pred)"
   ]
  },
  {
   "cell_type": "code",
   "execution_count": 160,
   "metadata": {},
   "outputs": [
    {
     "name": "stdout",
     "output_type": "stream",
     "text": [
      "The test error is obtained : \n",
      " 13.91304347826087 %\n"
     ]
    }
   ],
   "source": [
    "mis = 0\n",
    "for l in np.arange(0,X_test.shape[0]):\n",
    "    if y_test_pred[l] != y_test.iloc[l]:\n",
    "        mis = mis + 1\n",
    "\n",
    "test_error = (mis/X_test.shape[0])*100\n",
    "print('The test error is obtained : \\n',test_error,'%')"
   ]
  },
  {
   "cell_type": "code",
   "execution_count": 161,
   "metadata": {},
   "outputs": [
    {
     "name": "stdout",
     "output_type": "stream",
     "text": [
      "The confusion matrix for test is : \n",
      " [[70  2]\n",
      " [14 29]]\n"
     ]
    }
   ],
   "source": [
    "confusion_matrix_test = confusion_matrix(y_test,y_test_pred)\n",
    "\n",
    "print('The confusion matrix for test is : \\n',confusion_matrix_test)"
   ]
  },
  {
   "cell_type": "code",
   "execution_count": 162,
   "metadata": {},
   "outputs": [
    {
     "name": "stdout",
     "output_type": "stream",
     "text": [
      "The confusion matrix for test, appropriately indexed is : \n",
      "             Predicted 0  Predicted 1\n",
      "Actually 0           70            2\n",
      "Actually 1           14           29\n"
     ]
    }
   ],
   "source": [
    "confusion_matrix_test_df = pd.DataFrame(confusion_matrix_test,index=['Actually 0','Actually 1'],columns=['Predicted 0','Predicted 1'])\n",
    "print('The confusion matrix for test, appropriately indexed is : \\n',confusion_matrix_test_df)"
   ]
  },
  {
   "cell_type": "code",
   "execution_count": 163,
   "metadata": {},
   "outputs": [
    {
     "name": "stdout",
     "output_type": "stream",
     "text": [
      "The precision for test is : \n",
      " 93.54838709677419 %\n",
      "The recall for test is : \n",
      " 67.44186046511628 %\n"
     ]
    }
   ],
   "source": [
    "precision_test = (confusion_matrix_test[1][1]/(confusion_matrix_test[1][1]+confusion_matrix_test[0][1]))*100\n",
    "recall_test = (confusion_matrix_test[1][1]/(confusion_matrix_test[1][1]+confusion_matrix_test[1][0]))*100\n",
    "\n",
    "print('The precision for test is : \\n',precision_test,'%')\n",
    "print('The recall for test is : \\n',recall_test,'%')"
   ]
  },
  {
   "cell_type": "code",
   "execution_count": 164,
   "metadata": {},
   "outputs": [
    {
     "name": "stdout",
     "output_type": "stream",
     "text": [
      "The accuracy for test is : \n",
      " 86.08695652173914 %\n",
      "The f1 score for test is : \n",
      " 0.7837837837837838\n"
     ]
    }
   ],
   "source": [
    "accuracy_test = ((confusion_matrix_test[0][0]+confusion_matrix_test[1][1])/(confusion_matrix_test[0][0]+confusion_matrix_test[1][1]+confusion_matrix_test[0][1]+confusion_matrix_test[1][0]))*100\n",
    "f1_test = ((2*(precision_test/100)*(recall_test/100))/((precision_test/100)+(recall_test/100)))\n",
    "print('The accuracy for test is : \\n',accuracy_test,'%')\n",
    "print('The f1 score for test is : \\n',f1_test)"
   ]
  },
  {
   "cell_type": "code",
   "execution_count": 165,
   "metadata": {},
   "outputs": [
    {
     "name": "stdout",
     "output_type": "stream",
     "text": [
      "     FPR TPR\n",
      "0.00   0   0\n",
      "0.01   0   0\n",
      "0.02   0   0\n",
      "0.03   0   0\n",
      "0.04   0   0\n",
      "...   ..  ..\n",
      "0.96   1   1\n",
      "0.97   1   1\n",
      "0.98   1   1\n",
      "0.99   1   1\n",
      "1.00   1   1\n",
      "\n",
      "[101 rows x 2 columns]\n",
      "     FPR TPR\n",
      "0.00   0   0\n",
      "0.01   0   0\n",
      "0.02   0   0\n",
      "0.03   0   0\n",
      "0.04   0   0\n",
      "...   ..  ..\n",
      "0.96   1   1\n",
      "0.97   1   1\n",
      "0.98   1   1\n",
      "0.99   1   1\n",
      "1.00   1   1\n",
      "\n",
      "[101 rows x 2 columns]\n"
     ]
    }
   ],
   "source": [
    "pol_thrsh_ra_range = np.arange(0,1.01,0.01)  \n",
    "ROC_df = pd.DataFrame(index=pol_thrsh_ra_range,columns=['FPR','TPR'])\n",
    "ROC_df_test = pd.DataFrame(index=pol_thrsh_ra_range,columns=['FPR','TPR'])\n",
    "\n",
    "\n",
    "\n",
    "for ra in np.arange(0,pol_thrsh_ra_range.size):\n",
    "    \n",
    "    pol_thrsh_ra = pol_thrsh_ra_range[ra]\n",
    "    \n",
    "    pol_num_0_ra = math.floor(pol_thrsh_ra*read_labels_0.size)    \n",
    "    pol_num_1_ra = math.floor(pol_thrsh_ra*read_labels_1.size)\n",
    "    \n",
    "    pol_cnt_c0_0_ra = 0                    \n",
    "    pol_cnt_c1_0_ra = 0                    \n",
    "\n",
    "\n",
    "    for i in np.arange(0,read_labels_0.size):\n",
    "        if read_labels_0[i] == 0:\n",
    "            pol_cnt_c0_0_ra = pol_cnt_c0_0_ra + 1\n",
    "\n",
    "\n",
    "    if pol_cnt_c0_0_ra > pol_num_0_ra:\n",
    "        clus_0_ra = 0\n",
    "    else:\n",
    "        clus_0_ra = 1\n",
    "\n",
    "\n",
    "\n",
    "    for i in np.arange(0,read_labels_1.size):\n",
    "        if read_labels_1[i] == 0:\n",
    "            pol_cnt_c1_0_ra = pol_cnt_c1_0_ra + 1\n",
    "\n",
    "\n",
    "    if pol_cnt_c1_0_ra > pol_num_1_ra:\n",
    "        clus_1_ra = 0\n",
    "    else:\n",
    "        clus_1_ra = 1\n",
    "\n",
    "\n",
    "\n",
    "    \n",
    "    y_train_pred_ra = np.zeros(X_train.shape[0])\n",
    "\n",
    "    for i in np.arange(0,X_train.shape[0]):\n",
    "        if y_train_pred_cluster[i] == 0:\n",
    "            y_train_pred_ra[i] = clus_0_ra\n",
    "        else:\n",
    "            y_train_pred_ra[i] = clus_1_ra\n",
    "\n",
    "    y_train_pred_ra = y_train_pred_ra.astype(int)\n",
    "    \n",
    "    \n",
    "    \n",
    "    \n",
    "    \n",
    "    \n",
    "    \n",
    "    \n",
    "    y_test_pred_ra = np.zeros(X_test.shape[0])\n",
    "    for i in np.arange(0,X_test.shape[0]):\n",
    "        if y_test_pred_cluster[i] == 0:\n",
    "            y_test_pred_ra[i] = clus_0_ra\n",
    "        else:\n",
    "            y_test_pred_ra[i] = clus_1_ra\n",
    "\n",
    "    y_test_pred_ra = y_test_pred_ra.astype(int)\n",
    "    \n",
    "    \n",
    "    \n",
    "    confusion_matrix_train_ra = confusion_matrix(y_train,y_train_pred_ra)\n",
    "    ROC_df.iloc[ra,0] = confusion_matrix_train_ra[0][1]/(confusion_matrix_train_ra[0][1]+confusion_matrix_train_ra[0][0])\n",
    "    ROC_df.iloc[ra,1] = confusion_matrix_train_ra[1][1]/(confusion_matrix_train_ra[1][1]+confusion_matrix_train_ra[1][0])\n",
    "    \n",
    "    \n",
    "    confusion_matrix_test_ra = confusion_matrix(y_test,y_test_pred_ra)\n",
    "    ROC_df_test.iloc[ra,0] = confusion_matrix_test_ra[0][1]/(confusion_matrix_test_ra[0][1]+confusion_matrix_test_ra[0][0])\n",
    "    ROC_df_test.iloc[ra,1] = confusion_matrix_test_ra[1][1]/(confusion_matrix_test_ra[1][1]+confusion_matrix_test_ra[1][0])\n",
    "\n",
    "    \n",
    "\n",
    "\n",
    "    \n",
    "print(ROC_df)\n",
    "print(ROC_df_test)"
   ]
  },
  {
   "cell_type": "code",
   "execution_count": 166,
   "metadata": {},
   "outputs": [
    {
     "data": {
      "text/plain": [
       "Text(0, 0.5, 'TPR for Train')"
      ]
     },
     "execution_count": 166,
     "metadata": {},
     "output_type": "execute_result"
    },
    {
     "data": {
      "image/png": "[encoded data removed]",
      "text/plain": [
       "<Figure size 432x288 with 1 Axes>"
      ]
     },
     "metadata": {
      "needs_background": "light"
     },
     "output_type": "display_data"
    }
   ],
   "source": [
    "import matplotlib.pyplot as plt\n",
    "plt.plot(ROC_df['FPR'],ROC_df['TPR'])\n",
    "plt.xlim(0, 1)\n",
    "plt.ylim(0, 1)\n",
    "plt.xlabel('FPR for Train')\n",
    "plt.ylabel('TPR for Train')"
   ]
  },
  {
   "cell_type": "code",
   "execution_count": 167,
   "metadata": {},
   "outputs": [
    {
     "data": {
      "text/plain": [
       "Text(0, 0.5, 'TPR for Test')"
      ]
     },
     "execution_count": 167,
     "metadata": {},
     "output_type": "execute_result"
    },
    {
     "data": {
      "image/png": "[encoded data removed]",
      "text/plain": [
       "<Figure size 432x288 with 1 Axes>"
      ]
     },
     "metadata": {
      "needs_background": "light"
     },
     "output_type": "display_data"
    }
   ],
   "source": [
    "plt.plot(ROC_df_test['FPR'],ROC_df_test['TPR'])\n",
    "plt.xlim(0, 1)\n",
    "plt.ylim(0, 1)\n",
    "plt.xlabel('FPR for Test')\n",
    "plt.ylabel('TPR for Test')"
   ]
  },
  {
   "cell_type": "code",
   "execution_count": 168,
   "metadata": {},
   "outputs": [
    {
     "name": "stdout",
     "output_type": "stream",
     "text": [
      "The AUC for train is : \n",
      " 0.8563375895359702\n"
     ]
    }
   ],
   "source": [
    "from sklearn import metrics\n",
    "\n",
    "AUC_train = metrics.auc(ROC_df['FPR'],ROC_df['TPR'])\n",
    "print('The AUC for train is : \\n',AUC_train)"
   ]
  },
  {
   "cell_type": "code",
   "execution_count": 169,
   "metadata": {},
   "outputs": [
    {
     "name": "stdout",
     "output_type": "stream",
     "text": [
      "The AUC for test is : \n",
      " 0.8233204134366924\n"
     ]
    }
   ],
   "source": [
    "AUC_test = metrics.auc(ROC_df_test['FPR'],ROC_df_test['TPR'])\n",
    "print('The AUC for test is : \\n',AUC_test)"
   ]
  }
 ],
 "metadata": {
  "kernelspec": {
   "display_name": "Python 3",
   "language": "python",
   "name": "python3"
  },
  "language_info": {
   "codemirror_mode": {
    "name": "ipython",
    "version": 3
   },
   "file_extension": ".py",
   "mimetype": "text/x-python",
   "name": "python",
   "nbconvert_exporter": "python",
   "pygments_lexer": "ipython3",
   "version": "3.7.6"
  }
 },
 "nbformat": 4,
 "nbformat_minor": 4
}
