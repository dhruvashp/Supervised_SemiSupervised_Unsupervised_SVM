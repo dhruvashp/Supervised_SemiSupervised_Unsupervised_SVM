{
 "cells": [
  {
   "cell_type": "markdown",
   "metadata": {},
   "source": [
    "HW6\n",
    "\n",
    "Unsupervised Test Normalized\n",
    "Previously it was done for Raw data, here we'll do it again for Normalized Data\n",
    "\n",
    "NOTE : Here data is Normalized. Also M=1 (a single Monte Iteration is performed)\n",
    "\n",
    "Everything same as Unsupervised Test, except that data has been whole once NORMALIZED\n",
    "\n",
    "Unsupervised Test Normalized"
   ]
  },
  {
   "cell_type": "code",
   "execution_count": 620,
   "metadata": {},
   "outputs": [
    {
     "name": "stdout",
     "output_type": "stream",
     "text": [
      "           X1        X2        X3        X4        X5        X6        X7  \\\n",
      "0    0.014765  0.025524  0.095075  0.633546  0.000086  0.000073  0.000050   \n",
      "1    0.016099  0.021259  0.102610  0.660567  0.000088  0.000055  0.000053   \n",
      "2    0.014886  0.020254  0.095846  0.614363  0.000113  0.000090  0.000044   \n",
      "3    0.012420  0.018966  0.081663  0.509882  0.000097  0.000134  0.000092   \n",
      "4    0.011236  0.014977  0.073840  0.563050  0.000070  0.000089  0.000073   \n",
      "..        ...       ...       ...       ...       ...       ...       ...   \n",
      "449  0.013725  0.023669  0.088178  0.622552  0.000077  0.000067  0.000038   \n",
      "450  0.014019  0.019862  0.091521  0.569049  0.000123  0.000131  0.000131   \n",
      "451  0.012904  0.011880  0.083387  0.639594  0.000076  0.000068  0.000044   \n",
      "452  0.014822  0.022449  0.094856  0.637442  0.000096  0.000073  0.000015   \n",
      "453  0.018598  0.023272  0.120308  0.649325  0.000161  0.000181  0.000109   \n",
      "\n",
      "           X8        X9       X10  ...       X21       X22       X23  \\\n",
      "0    0.000025  0.000190  0.000058  ...  0.016118  0.028284  0.105233   \n",
      "1    0.000013  0.000181  0.000069  ...  0.017002  0.033931  0.107671   \n",
      "2    0.000031  0.000181  0.000063  ...  0.016712  0.028709  0.108009   \n",
      "3    0.000058  0.000185  0.000063  ...  0.016254  0.026186  0.105773   \n",
      "4    0.000039  0.000150  0.000041  ...  0.013537  0.022027  0.090180   \n",
      "..        ...       ...       ...  ...       ...       ...       ...   \n",
      "449  0.000028  0.000171  0.000053  ...  0.015373  0.030066  0.100003   \n",
      "450  0.000078  0.000227  0.000072  ...  0.016680  0.029751  0.109424   \n",
      "451  0.000036  0.000139  0.000047  ...  0.014159  0.015654  0.092661   \n",
      "452  0.000020  0.000160  0.000062  ...  0.016195  0.031988  0.103814   \n",
      "453  0.000042  0.000293  0.000109  ...  0.019759  0.031717  0.126964   \n",
      "\n",
      "          X24       X25       X26       X27       X28       X29       X30  \n",
      "0    0.758108  0.000101  0.000155  0.000146  0.000066  0.000286  0.000068  \n",
      "1    0.734234  0.000134  0.000184  0.000280  0.000061  0.000337  0.000088  \n",
      "2    0.774069  0.000148  0.000194  0.000153  0.000088  0.000296  0.000073  \n",
      "3    0.848431  0.000143  0.000348  0.000343  0.000140  0.000350  0.000096  \n",
      "4    0.816972  0.000097  0.000212  0.000208  0.000091  0.000242  0.000053  \n",
      "..        ...       ...       ...       ...       ...       ...       ...  \n",
      "449  0.769484  0.000099  0.000128  0.000150  0.000102  0.000253  0.000065  \n",
      "450  0.808336  0.000190  0.000443  0.000533  0.000222  0.000415  0.000125  \n",
      "451  0.757839  0.000096  0.000138  0.000185  0.000090  0.000222  0.000056  \n",
      "452  0.755866  0.000136  0.000160  0.000066  0.000084  0.000235  0.000080  \n",
      "453  0.737803  0.000217  0.000341  0.000290  0.000111  0.000375  0.000131  \n",
      "\n",
      "[454 rows x 30 columns]\n",
      "0      0\n",
      "1      0\n",
      "2      0\n",
      "3      1\n",
      "4      1\n",
      "      ..\n",
      "449    0\n",
      "450    1\n",
      "451    0\n",
      "452    0\n",
      "453    0\n",
      "Name: y, Length: 454, dtype: int32\n",
      "           X1        X2        X3        X4        X5        X6        X7  \\\n",
      "0    0.013807  0.023167  0.090363  0.594214  0.000092  0.000127  0.000108   \n",
      "1    0.007925  0.004573  0.054099  0.440986  0.000052  0.000122  0.000132   \n",
      "2    0.014382  0.018879  0.091264  0.605638  0.000084  0.000043  0.000021   \n",
      "3    0.016140  0.036240  0.103382  0.644477  0.000102  0.000073  0.000078   \n",
      "4    0.015547  0.022945  0.099711  0.583676  0.000118  0.000091  0.000056   \n",
      "..        ...       ...       ...       ...       ...       ...       ...   \n",
      "110  0.021543  0.041537  0.136327  0.577915  0.000256  0.000183  0.000000   \n",
      "111  0.010361  0.010032  0.068694  0.641758  0.000058  0.000076  0.000110   \n",
      "112  0.020368  0.035073  0.130289  0.626437  0.000212  0.000170  0.000035   \n",
      "113  0.017126  0.020748  0.108652  0.651023  0.000120  0.000063  0.000029   \n",
      "114  0.012946  0.026044  0.087948  0.609768  0.000089  0.000178  0.000217   \n",
      "\n",
      "           X8        X9       X10  ...       X21       X22       X23  \\\n",
      "0    0.000063  0.000217  0.000063  ...  0.016405  0.033909  0.111896   \n",
      "1    0.000065  0.000107  0.000035  ...  0.011181  0.007635  0.081325   \n",
      "2    0.000013  0.000166  0.000058  ...  0.016403  0.027620  0.104672   \n",
      "3    0.000029  0.000196  0.000072  ...  0.017406  0.044786  0.111327   \n",
      "4    0.000026  0.000216  0.000075  ...  0.018195  0.030610  0.119498   \n",
      "..        ...       ...       ...  ...       ...       ...       ...   \n",
      "110  0.000000  0.000490  0.000175  ...  0.025085  0.056238  0.157884   \n",
      "111  0.000065  0.000089  0.000031  ...  0.011310  0.012871  0.074957   \n",
      "112  0.000038  0.000382  0.000138  ...  0.022348  0.045697  0.143934   \n",
      "113  0.000029  0.000218  0.000079  ...  0.018291  0.023385  0.116729   \n",
      "114  0.000080  0.000181  0.000061  ...  0.014902  0.036396  0.109467   \n",
      "\n",
      "          X24       X25       X26       X27       X28       X29       X30  \n",
      "0    0.789399  0.000152  0.000395  0.000364  0.000172  0.000460  0.000100  \n",
      "1    0.889462  0.000071  0.000293  0.000314  0.000117  0.000203  0.000052  \n",
      "2    0.782154  0.000111  0.000081  0.000112  0.000055  0.000247  0.000066  \n",
      "3    0.746481  0.000154  0.000203  0.000306  0.000081  0.000297  0.000091  \n",
      "4    0.795297  0.000174  0.000276  0.000307  0.000112  0.000410  0.000095  \n",
      "..        ...       ...       ...       ...       ...       ...       ...  \n",
      "110  0.781899  0.000360  0.000323  0.000000  0.000000  0.000603  0.000219  \n",
      "111  0.759328  0.000085  0.000151  0.000273  0.000112  0.000156  0.000041  \n",
      "112  0.751484  0.000281  0.000288  0.000131  0.000112  0.000611  0.000176  \n",
      "113  0.739843  0.000145  0.000094  0.000068  0.000067  0.000319  0.000083  \n",
      "114  0.778264  0.000121  0.000673  0.000995  0.000200  0.000348  0.000120  \n",
      "\n",
      "[115 rows x 30 columns]\n",
      "0      1\n",
      "1      1\n",
      "2      0\n",
      "3      0\n",
      "4      0\n",
      "      ..\n",
      "110    0\n",
      "111    1\n",
      "112    0\n",
      "113    0\n",
      "114    1\n",
      "Name: y, Length: 115, dtype: int32\n"
     ]
    },
    {
     "name": "stderr",
     "output_type": "stream",
     "text": [
      "C:\\Users\\DHRUV\\anaconda3\\lib\\site-packages\\pandas\\core\\indexing.py:670: SettingWithCopyWarning: \n",
      "A value is trying to be set on a copy of a slice from a DataFrame\n",
      "\n",
      "See the caveats in the documentation: https://pandas.pydata.org/pandas-docs/stable/user_guide/indexing.html#returning-a-view-versus-a-copy\n",
      "  self._setitem_with_indexer(indexer, value)\n"
     ]
    }
   ],
   "source": [
    "import pandas as pd\n",
    "import numpy as np\n",
    "\n",
    "df = pd.read_csv('wdbc.csv', header = None)\n",
    "\n",
    "\n",
    "output = df.iloc[:,0]\n",
    "\n",
    "\n",
    "for i in np.arange(0,df.shape[0]):\n",
    "    if output.iloc[i] == 'B':\n",
    "        output.iloc[i] = 0\n",
    "    else:\n",
    "        output.iloc[i] = 1\n",
    "\n",
    "\n",
    "\n",
    "features = df.iloc[:,1:]\n",
    "\n",
    "\n",
    "from sklearn.preprocessing import normalize\n",
    "\n",
    "features_normal = normalize(features)\n",
    "\n",
    "\n",
    "features_normal_df = pd.DataFrame(features_normal)\n",
    "\n",
    "\n",
    "norm_whole = pd.concat([features_normal_df,output],axis=1)\n",
    "\n",
    "\n",
    "col_head = norm_whole.columns\n",
    "\n",
    "\n",
    "norm_whole.columns= ['X1','X2','X3','X4','X5','X6','X7','X8','X9','X10','X11','X12','X13','X14','X15','X16','X17','X18','X19','X20','X21','X22','X23','X24','X25','X26','X27','X28','X29','X30','y']\n",
    "\n",
    "\n",
    "norm_whole.sort_values(by=['y'],inplace=True)\n",
    "\n",
    "\n",
    "norm_whole.reset_index(drop=True,inplace=True)\n",
    "\n",
    "\n",
    "X_y_0 = norm_whole.iloc[0:357,:]\n",
    "X_y_1 = norm_whole.iloc[357:569,:]\n",
    "X_y_1.reset_index(drop=True,inplace=True)\n",
    "\n",
    "\n",
    "from sklearn.model_selection import train_test_split\n",
    "\n",
    "X_y_train_0,X_y_test_0 = train_test_split(X_y_0,test_size = 0.2,shuffle=True)\n",
    "X_y_train_1,X_y_test_1 = train_test_split(X_y_1,test_size = 0.2,shuffle=True)\n",
    "\n",
    "\n",
    "\n",
    "X_y_train = pd.concat([X_y_train_0,X_y_train_1],axis=0)\n",
    "X_y_test = pd.concat([X_y_test_0,X_y_test_1],axis=0)\n",
    "\n",
    "\n",
    "from sklearn.utils import shuffle\n",
    "\n",
    "X_y_train = shuffle(X_y_train)\n",
    "X_y_test = shuffle(X_y_test)\n",
    "\n",
    "\n",
    "\n",
    "X_y_train.reset_index(drop=True,inplace=True)\n",
    "X_y_test.reset_index(drop=True,inplace=True)\n",
    "\n",
    "\n",
    "X_train = X_y_train.drop(columns=['y'])\n",
    "X_test = X_y_test.drop(columns=['y'])\n",
    "y_train = X_y_train['y'].astype(int)\n",
    "y_test =  X_y_test['y'].astype(int)\n",
    "print(X_train)\n",
    "print(y_train)\n",
    "print(X_test)\n",
    "print(y_test)\n"
   ]
  },
  {
   "cell_type": "code",
   "execution_count": 621,
   "metadata": {},
   "outputs": [
    {
     "name": "stdout",
     "output_type": "stream",
     "text": [
      "[0 0 0 1 1 0 0 1 0 0 0 1 1 0 0 1 0 0 0 1 0 0 0 1 0 0 0 0 0 1 1 0 0 0 0 0 0\n",
      " 0 0 0 0 0 0 1 1 0 0 0 1 0 0 1 0 1 1 1 0 0 1 0 0 0 1 0 0 0 0 0 0 0 0 0 0 0\n",
      " 0 1 1 0 0 0 0 0 0 1 0 0 0 0 0 1 1 0 0 0 0 1 0 1 0 0 0 0 0 1 0 0 1 1 0 0 0\n",
      " 1 1 1 1 0 0 0 0 0 0 1 0 1 1 0 1 0 1 1 0 1 0 0 0 0 0 0 1 1 1 1 0 0 0 0 0 1\n",
      " 0 0 0 0 0 1 1 0 0 1 0 1 1 0 0 0 0 1 1 0 0 0 0 0 0 1 0 1 0 0 1 0 0 0 0 0 1\n",
      " 1 0 0 1 0 0 0 1 0 0 0 1 0 0 0 1 0 0 0 0 0 1 0 0 1 1 1 0 1 0 1 0 1 0 1 1 1\n",
      " 0 0 0 0 1 0 0 0 1 0 0 0 1 0 0 0 1 1 0 0 0 0 0 0 0 1 1 0 0 0 0 0 0 0 0 0 0\n",
      " 0 0 0 0 0 0 0 1 0 0 0 0 0 0 1 0 0 0 0 0 1 0 0 0 1 0 0 1 0 1 0 0 0 0 1 0 0\n",
      " 0 0 1 1 1 0 0 0 1 0 0 0 0 0 0 0 1 0 0 0 0 0 1 1 1 0 0 0 0 0 0 0 0 1 1 0 0\n",
      " 1 0 0 1 0 0 1 0 0 0 0 0 1 0 1 0 0 0 0 1 0 0 1 0 0 0 1 0 0 0 1 0 0 0 1 1 0\n",
      " 0 0 0 0 1 1 0 0 1 0 0 1 0 0 0 0 0 0 0 0 0 0 0 1 1 0 0 0 0 0 0 1 0 0 0 1 0\n",
      " 0 0 0 0 0 0 0 1 0 1 0 0 0 0 1 0 0 0 0 0 0 0 1 1 0 0 0 1 0 1 1 0 0 1 1 0 0\n",
      " 0 0 0 0 0 0 1 0 0 0]\n",
      "[[1.64457511e-02 2.48100843e-02 1.05915397e-01 6.27211805e-01\n",
      "  1.29271830e-04 1.15911475e-04 7.35216297e-05 3.85996999e-05\n",
      "  2.42327088e-04 8.73657212e-05 4.09576964e-04 1.77073445e-03\n",
      "  2.91523519e-03 3.11892187e-02 1.05074867e-05 3.13954271e-05\n",
      "  3.95870296e-05 1.41994189e-05 2.98724887e-05 5.20416282e-06\n",
      "  1.81264878e-02 3.25863230e-02 1.18337267e-01 7.58854471e-01\n",
      "  1.75635122e-04 2.67276863e-04 2.52618424e-04 1.06971225e-04\n",
      "  3.77533072e-04 1.11136048e-04]\n",
      " [1.02833346e-02 1.32775536e-02 6.77897170e-02 5.40852879e-01\n",
      "  6.56210116e-05 8.99195609e-05 9.28831280e-05 5.15968079e-05\n",
      "  1.22027660e-04 4.02700448e-05 3.59320575e-04 6.95990179e-04\n",
      "  2.47581299e-03 3.99397074e-02 3.97759157e-06 1.88184776e-05\n",
      "  2.31311500e-05 8.67541423e-06 1.16383840e-05 2.46301901e-06\n",
      "  1.28269700e-02 1.83482790e-02 8.51661001e-02 8.30647135e-01\n",
      "  9.44990747e-05 2.43860437e-04 2.79963453e-04 1.13896542e-04\n",
      "  2.09306592e-04 6.05589740e-05]]\n"
     ]
    }
   ],
   "source": [
    "from sklearn.cluster import KMeans\n",
    "\n",
    "for i in np.arange(0,10):        \n",
    "    kmeans = KMeans(n_clusters=2,init='random',n_init=10).fit(X_train)   \n",
    "\n",
    "\n",
    "y_train_pred_cluster = kmeans.labels_\n",
    "cluster_centers = kmeans.cluster_centers_\n",
    "\n",
    "print(y_train_pred_cluster)    \n",
    "print(cluster_centers)"
   ]
  },
  {
   "cell_type": "code",
   "execution_count": 622,
   "metadata": {},
   "outputs": [
    {
     "name": "stdout",
     "output_type": "stream",
     "text": [
      "[435 377 338  52 346 382  10 361 422 425 181 235  91 125 190 257 276 146\n",
      " 408 446  80 412 242  59 170 134 418 104  67  61]\n",
      "[219 374 288 140 405 128 336 393 304 437 184  48 378 339 113 215 139 247\n",
      " 103 436 121  15 286 416 157 355 238 124  30 345]\n"
     ]
    }
   ],
   "source": [
    "X_train_dist_0 = kmeans.transform(X_train)[:,0]\n",
    "X_train_dist_1 = kmeans.transform(X_train)[:,1]\n",
    "\n",
    "\n",
    "all_indx = np.arange(0,X_train.shape[0])          \n",
    "\n",
    "list_cluster_0 = []         \n",
    "list_cluster_1 = []         \n",
    "\n",
    "for i in all_indx:\n",
    "    if y_train_pred_cluster[i] == 0:\n",
    "        list_cluster_0.append(i)\n",
    "    else:\n",
    "        list_cluster_1.append(i)\n",
    "        \n",
    "\n",
    "dist_0_0 = X_train_dist_0[list_cluster_0]   \n",
    "dist_1_1 = X_train_dist_1[list_cluster_1]   \n",
    "\n",
    "\n",
    "\n",
    "\n",
    "df_0 = pd.DataFrame(np.transpose(np.array([np.array(list_cluster_0),dist_0_0])),columns=['index','distance'])\n",
    "df_1 = pd.DataFrame(np.transpose(np.array([np.array(list_cluster_1),dist_1_1])),columns=['index','distance'])\n",
    "\n",
    "\n",
    "\n",
    "df_0_srt_slc = df_0.sort_values(by=['distance'],ascending=True).iloc[0:30,:]\n",
    "df_1_srt_slc = df_1.sort_values(by=['distance'],ascending=True).iloc[0:30,:]\n",
    "\n",
    "sel_indx_0_cls = df_0_srt_slc.iloc[:,0].to_numpy().flatten().astype(int)\n",
    "sel_indx_1_cls = df_1_srt_slc.iloc[:,0].to_numpy().flatten().astype(int)\n",
    "\n",
    "print(sel_indx_0_cls)\n",
    "print(sel_indx_1_cls)\n",
    "\n",
    "\n"
   ]
  },
  {
   "cell_type": "code",
   "execution_count": 623,
   "metadata": {},
   "outputs": [
    {
     "name": "stdout",
     "output_type": "stream",
     "text": [
      "435    0\n",
      "377    0\n",
      "338    0\n",
      "52     0\n",
      "346    1\n",
      "382    0\n",
      "10     0\n",
      "361    0\n",
      "422    0\n",
      "425    0\n",
      "181    0\n",
      "235    0\n",
      "91     0\n",
      "125    0\n",
      "190    0\n",
      "257    0\n",
      "276    0\n",
      "146    0\n",
      "408    0\n",
      "446    0\n",
      "80     0\n",
      "412    0\n",
      "242    0\n",
      "59     0\n",
      "170    0\n",
      "134    0\n",
      "418    0\n",
      "104    0\n",
      "67     0\n",
      "61     0\n",
      "Name: y, dtype: int32\n",
      "219    1\n",
      "374    1\n",
      "288    1\n",
      "140    1\n",
      "405    1\n",
      "128    1\n",
      "336    1\n",
      "393    1\n",
      "304    1\n",
      "437    1\n",
      "184    1\n",
      "48     1\n",
      "378    1\n",
      "339    1\n",
      "113    1\n",
      "215    1\n",
      "139    1\n",
      "247    1\n",
      "103    1\n",
      "436    1\n",
      "121    1\n",
      "15     1\n",
      "286    1\n",
      "416    1\n",
      "157    1\n",
      "355    1\n",
      "238    1\n",
      "124    1\n",
      "30     0\n",
      "345    1\n",
      "Name: y, dtype: int32\n"
     ]
    }
   ],
   "source": [
    "y_train_read_0 = y_train[sel_indx_0_cls]\n",
    "y_train_read_1 = y_train[sel_indx_1_cls]\n",
    "\n",
    "\n",
    "print(y_train_read_0)\n",
    "print(y_train_read_1)"
   ]
  },
  {
   "cell_type": "code",
   "execution_count": 624,
   "metadata": {},
   "outputs": [
    {
     "name": "stdout",
     "output_type": "stream",
     "text": [
      "0\n",
      "1\n"
     ]
    }
   ],
   "source": [
    "import math\n",
    "pol_thrsh = 0.5 \n",
    "\n",
    "read_labels_0 = y_train_read_0.to_numpy().flatten()   \n",
    "read_labels_1 = y_train_read_1.to_numpy().flatten()  \n",
    "\n",
    "pol_num_0 = math.floor(pol_thrsh*read_labels_0.size)     \n",
    "pol_num_1 = math.floor(pol_thrsh*read_labels_1.size)    \n",
    "\n",
    "\n",
    "pol_cnt_c0_0 = 0                    \n",
    "pol_cnt_c1_0 = 0                    \n",
    "\n",
    "\n",
    "for i in np.arange(0,read_labels_0.size):\n",
    "    if read_labels_0[i] == 0:\n",
    "        pol_cnt_c0_0 = pol_cnt_c0_0 + 1\n",
    "        \n",
    "\n",
    "if pol_cnt_c0_0 > pol_num_0:\n",
    "    clus_0 = 0\n",
    "else:\n",
    "    clus_0 = 1\n",
    "    \n",
    "\n",
    "\n",
    "for i in np.arange(0,read_labels_1.size):\n",
    "    if read_labels_1[i] == 0:\n",
    "        pol_cnt_c1_0 = pol_cnt_c1_0 + 1\n",
    "        \n",
    "\n",
    "if pol_cnt_c1_0 > pol_num_1:\n",
    "    clus_1 = 0\n",
    "else:\n",
    "    clus_1 = 1\n",
    "    \n",
    "\n",
    "    \n",
    "print(clus_0)\n",
    "print(clus_1)\n",
    "\n",
    "\n"
   ]
  },
  {
   "cell_type": "code",
   "execution_count": 625,
   "metadata": {},
   "outputs": [
    {
     "name": "stdout",
     "output_type": "stream",
     "text": [
      "[0 0 0 1 1 0 0 1 0 0 0 1 1 0 0 1 0 0 0 1 0 0 0 1 0 0 0 0 0 1 1 0 0 0 0 0 0\n",
      " 0 0 0 0 0 0 1 1 0 0 0 1 0 0 1 0 1 1 1 0 0 1 0 0 0 1 0 0 0 0 0 0 0 0 0 0 0\n",
      " 0 1 1 0 0 0 0 0 0 1 0 0 0 0 0 1 1 0 0 0 0 1 0 1 0 0 0 0 0 1 0 0 1 1 0 0 0\n",
      " 1 1 1 1 0 0 0 0 0 0 1 0 1 1 0 1 0 1 1 0 1 0 0 0 0 0 0 1 1 1 1 0 0 0 0 0 1\n",
      " 0 0 0 0 0 1 1 0 0 1 0 1 1 0 0 0 0 1 1 0 0 0 0 0 0 1 0 1 0 0 1 0 0 0 0 0 1\n",
      " 1 0 0 1 0 0 0 1 0 0 0 1 0 0 0 1 0 0 0 0 0 1 0 0 1 1 1 0 1 0 1 0 1 0 1 1 1\n",
      " 0 0 0 0 1 0 0 0 1 0 0 0 1 0 0 0 1 1 0 0 0 0 0 0 0 1 1 0 0 0 0 0 0 0 0 0 0\n",
      " 0 0 0 0 0 0 0 1 0 0 0 0 0 0 1 0 0 0 0 0 1 0 0 0 1 0 0 1 0 1 0 0 0 0 1 0 0\n",
      " 0 0 1 1 1 0 0 0 1 0 0 0 0 0 0 0 1 0 0 0 0 0 1 1 1 0 0 0 0 0 0 0 0 1 1 0 0\n",
      " 1 0 0 1 0 0 1 0 0 0 0 0 1 0 1 0 0 0 0 1 0 0 1 0 0 0 1 0 0 0 1 0 0 0 1 1 0\n",
      " 0 0 0 0 1 1 0 0 1 0 0 1 0 0 0 0 0 0 0 0 0 0 0 1 1 0 0 0 0 0 0 1 0 0 0 1 0\n",
      " 0 0 0 0 0 0 0 1 0 1 0 0 0 0 1 0 0 0 0 0 0 0 1 1 0 0 0 1 0 1 1 0 0 1 1 0 0\n",
      " 0 0 0 0 0 0 1 0 0 0]\n"
     ]
    }
   ],
   "source": [
    "y_train_pred = np.zeros(X_train.shape[0])\n",
    "\n",
    "for i in np.arange(0,X_train.shape[0]):\n",
    "    if y_train_pred_cluster[i] == 0:\n",
    "        y_train_pred[i] = clus_0\n",
    "    else:\n",
    "        y_train_pred[i] = clus_1\n",
    "        \n",
    "y_train_pred = y_train_pred.astype(int)\n",
    "print(y_train_pred)"
   ]
  },
  {
   "cell_type": "markdown",
   "metadata": {},
   "source": [
    "TRAINING SCORES"
   ]
  },
  {
   "cell_type": "code",
   "execution_count": 626,
   "metadata": {},
   "outputs": [
    {
     "name": "stdout",
     "output_type": "stream",
     "text": [
      "The training error is : \n",
      " 11.45374449339207 %\n"
     ]
    }
   ],
   "source": [
    "mis = 0\n",
    "for l in np.arange(0,X_train.shape[0]):\n",
    "    if y_train_pred[l] != y_train.iloc[l]:\n",
    "        mis = mis + 1\n",
    "\n",
    "train_error = (mis/X_train.shape[0])*100\n",
    "print('The training error is : \\n',train_error,'%')"
   ]
  },
  {
   "cell_type": "code",
   "execution_count": 627,
   "metadata": {},
   "outputs": [
    {
     "name": "stdout",
     "output_type": "stream",
     "text": [
      "The confusion matrix for training is : \n",
      " [[281   4]\n",
      " [ 48 121]]\n"
     ]
    }
   ],
   "source": [
    "from sklearn.metrics import confusion_matrix\n",
    "\n",
    "confusion_matrix_train = confusion_matrix(y_train,y_train_pred)\n",
    "\n",
    "print('The confusion matrix for training is : \\n',confusion_matrix_train)"
   ]
  },
  {
   "cell_type": "code",
   "execution_count": 628,
   "metadata": {},
   "outputs": [
    {
     "name": "stdout",
     "output_type": "stream",
     "text": [
      "The confusion matrix for train, appropriately indexed is : \n",
      "             Predicted 0  Predicted 1\n",
      "Actually 0          281            4\n",
      "Actually 1           48          121\n"
     ]
    }
   ],
   "source": [
    "confusion_matrix_train_df = pd.DataFrame(confusion_matrix_train,index=['Actually 0','Actually 1'],columns=['Predicted 0','Predicted 1'])\n",
    "print('The confusion matrix for train, appropriately indexed is : \\n',confusion_matrix_train_df)"
   ]
  },
  {
   "cell_type": "code",
   "execution_count": 629,
   "metadata": {},
   "outputs": [
    {
     "name": "stdout",
     "output_type": "stream",
     "text": [
      "The precision for train is : \n",
      " 96.8 %\n",
      "The recall for train is : \n",
      " 71.59763313609467 %\n"
     ]
    }
   ],
   "source": [
    "precision_train = (confusion_matrix_train[1][1]/(confusion_matrix_train[1][1]+confusion_matrix_train[0][1]))*100\n",
    "recall_train = (confusion_matrix_train[1][1]/(confusion_matrix_train[1][1]+confusion_matrix_train[1][0]))*100\n",
    "\n",
    "print('The precision for train is : \\n',precision_train,'%')\n",
    "print('The recall for train is : \\n',recall_train,'%')"
   ]
  },
  {
   "cell_type": "code",
   "execution_count": 630,
   "metadata": {},
   "outputs": [
    {
     "name": "stdout",
     "output_type": "stream",
     "text": [
      "The accuracy for training is : \n",
      " 88.54625550660793 %\n",
      "The f1 score for training is : \n",
      " 0.8231292517006804\n"
     ]
    }
   ],
   "source": [
    "accuracy_train = ((confusion_matrix_train[0][0]+confusion_matrix_train[1][1])/(confusion_matrix_train[0][0]+confusion_matrix_train[1][1]+confusion_matrix_train[0][1]+confusion_matrix_train[1][0]))*100\n",
    "f1_train = ((2*(precision_train/100)*(recall_train/100))/((precision_train/100)+(recall_train/100))) # divided by 100 as precision and recall specified in percentage\n",
    "print('The accuracy for training is : \\n',accuracy_train,'%')\n",
    "print('The f1 score for training is : \\n',f1_train)"
   ]
  },
  {
   "cell_type": "markdown",
   "metadata": {},
   "source": [
    "TEST SCORES"
   ]
  },
  {
   "cell_type": "code",
   "execution_count": 631,
   "metadata": {},
   "outputs": [
    {
     "name": "stdout",
     "output_type": "stream",
     "text": [
      "[0 1 0 0 0 0 0 0 0 0 0 0 1 0 1 1 0 1 0 0 0 1 0 1 0 0 1 0 0 1 0 0 1 0 0 0 0\n",
      " 0 1 1 0 0 1 1 0 0 1 0 0 0 0 0 1 0 0 1 0 0 0 0 0 0 0 0 0 0 0 0 0 0 0 0 0 1\n",
      " 0 0 0 0 1 0 0 1 0 1 0 0 0 0 0 0 1 0 1 0 0 0 0 0 1 0 1 1 0 0 0 1 0 0 0 0 0\n",
      " 0 0 0 0]\n"
     ]
    }
   ],
   "source": [
    "y_test_pred_cluster = kmeans.predict(X_test)\n",
    "\n",
    "print(y_test_pred_cluster)"
   ]
  },
  {
   "cell_type": "code",
   "execution_count": 632,
   "metadata": {},
   "outputs": [
    {
     "name": "stdout",
     "output_type": "stream",
     "text": [
      "[0 1 0 0 0 0 0 0 0 0 0 0 1 0 1 1 0 1 0 0 0 1 0 1 0 0 1 0 0 1 0 0 1 0 0 0 0\n",
      " 0 1 1 0 0 1 1 0 0 1 0 0 0 0 0 1 0 0 1 0 0 0 0 0 0 0 0 0 0 0 0 0 0 0 0 0 1\n",
      " 0 0 0 0 1 0 0 1 0 1 0 0 0 0 0 0 1 0 1 0 0 0 0 0 1 0 1 1 0 0 0 1 0 0 0 0 0\n",
      " 0 0 0 0]\n"
     ]
    }
   ],
   "source": [
    "y_test_pred = np.zeros(X_test.shape[0])\n",
    "for i in np.arange(0,X_test.shape[0]):\n",
    "    if y_test_pred_cluster[i] == 0:\n",
    "        y_test_pred[i] = clus_0\n",
    "    else:\n",
    "        y_test_pred[i] = clus_1\n",
    "\n",
    "y_test_pred = y_test_pred.astype(int)\n",
    "print(y_test_pred)"
   ]
  },
  {
   "cell_type": "code",
   "execution_count": 633,
   "metadata": {},
   "outputs": [
    {
     "name": "stdout",
     "output_type": "stream",
     "text": [
      "The test error is obtained : \n",
      " 15.65217391304348 %\n"
     ]
    }
   ],
   "source": [
    "mis = 0\n",
    "for l in np.arange(0,X_test.shape[0]):\n",
    "    if y_test_pred[l] != y_test.iloc[l]:\n",
    "        mis = mis + 1\n",
    "\n",
    "test_error = (mis/X_test.shape[0])*100\n",
    "print('The test error is obtained : \\n',test_error,'%')"
   ]
  },
  {
   "cell_type": "code",
   "execution_count": 634,
   "metadata": {},
   "outputs": [
    {
     "name": "stdout",
     "output_type": "stream",
     "text": [
      "The confusion matrix for test is : \n",
      " [[71  1]\n",
      " [17 26]]\n"
     ]
    }
   ],
   "source": [
    "confusion_matrix_test = confusion_matrix(y_test,y_test_pred)\n",
    "\n",
    "print('The confusion matrix for test is : \\n',confusion_matrix_test)"
   ]
  },
  {
   "cell_type": "code",
   "execution_count": 635,
   "metadata": {},
   "outputs": [
    {
     "name": "stdout",
     "output_type": "stream",
     "text": [
      "The confusion matrix for test, appropriately indexed is : \n",
      "             Predicted 0  Predicted 1\n",
      "Actually 0           71            1\n",
      "Actually 1           17           26\n"
     ]
    }
   ],
   "source": [
    "confusion_matrix_test_df = pd.DataFrame(confusion_matrix_test,index=['Actually 0','Actually 1'],columns=['Predicted 0','Predicted 1'])\n",
    "print('The confusion matrix for test, appropriately indexed is : \\n',confusion_matrix_test_df)"
   ]
  },
  {
   "cell_type": "code",
   "execution_count": 636,
   "metadata": {},
   "outputs": [
    {
     "name": "stdout",
     "output_type": "stream",
     "text": [
      "The precision for test is : \n",
      " 96.29629629629629 %\n",
      "The recall for test is : \n",
      " 60.46511627906976 %\n"
     ]
    }
   ],
   "source": [
    "precision_test = (confusion_matrix_test[1][1]/(confusion_matrix_test[1][1]+confusion_matrix_test[0][1]))*100\n",
    "recall_test = (confusion_matrix_test[1][1]/(confusion_matrix_test[1][1]+confusion_matrix_test[1][0]))*100\n",
    "\n",
    "print('The precision for test is : \\n',precision_test,'%')\n",
    "print('The recall for test is : \\n',recall_test,'%')"
   ]
  },
  {
   "cell_type": "code",
   "execution_count": 637,
   "metadata": {},
   "outputs": [
    {
     "name": "stdout",
     "output_type": "stream",
     "text": [
      "The accuracy for test is : \n",
      " 84.34782608695653 %\n",
      "The f1 score for test is : \n",
      " 0.7428571428571429\n"
     ]
    }
   ],
   "source": [
    "accuracy_test = ((confusion_matrix_test[0][0]+confusion_matrix_test[1][1])/(confusion_matrix_test[0][0]+confusion_matrix_test[1][1]+confusion_matrix_test[0][1]+confusion_matrix_test[1][0]))*100\n",
    "f1_test = ((2*(precision_test/100)*(recall_test/100))/((precision_test/100)+(recall_test/100))) # divided by 100 as precision and recall specified in percentage\n",
    "print('The accuracy for test is : \\n',accuracy_test,'%')\n",
    "print('The f1 score for test is : \\n',f1_test)"
   ]
  },
  {
   "cell_type": "markdown",
   "metadata": {},
   "source": [
    "ROC and AUC for Train and Test\n",
    "\n",
    "Again, the code of pol_thrsh will be used here to obtain to ROC and AUC, both, for test as well as for train"
   ]
  },
  {
   "cell_type": "code",
   "execution_count": 638,
   "metadata": {},
   "outputs": [
    {
     "name": "stdout",
     "output_type": "stream",
     "text": [
      "            FPR       TPR\n",
      "0.00          0         0\n",
      "0.01          0         0\n",
      "0.02          0         0\n",
      "0.03          0         0\n",
      "0.04  0.0140351  0.715976\n",
      "...         ...       ...\n",
      "0.96  0.0140351  0.715976\n",
      "0.97          1         1\n",
      "0.98          1         1\n",
      "0.99          1         1\n",
      "1.00          1         1\n",
      "\n",
      "[101 rows x 2 columns]\n",
      "            FPR       TPR\n",
      "0.00          0         0\n",
      "0.01          0         0\n",
      "0.02          0         0\n",
      "0.03          0         0\n",
      "0.04  0.0138889  0.604651\n",
      "...         ...       ...\n",
      "0.96  0.0138889  0.604651\n",
      "0.97          1         1\n",
      "0.98          1         1\n",
      "0.99          1         1\n",
      "1.00          1         1\n",
      "\n",
      "[101 rows x 2 columns]\n"
     ]
    }
   ],
   "source": [
    "pol_thrsh_ra_range = np.arange(0,1.01,0.01)  \n",
    "ROC_df = pd.DataFrame(index=pol_thrsh_ra_range,columns=['FPR','TPR'])\n",
    "ROC_df_test = pd.DataFrame(index=pol_thrsh_ra_range,columns=['FPR','TPR'])\n",
    "\n",
    "\n",
    "\n",
    "for ra in np.arange(0,pol_thrsh_ra_range.size):\n",
    "    \n",
    "    pol_thrsh_ra = pol_thrsh_ra_range[ra]\n",
    "    \n",
    "    pol_num_0_ra = math.floor(pol_thrsh_ra*read_labels_0.size)    \n",
    "    pol_num_1_ra = math.floor(pol_thrsh_ra*read_labels_1.size)\n",
    "    \n",
    "    pol_cnt_c0_0_ra = 0                    \n",
    "    pol_cnt_c1_0_ra = 0                    \n",
    "\n",
    "\n",
    "    for i in np.arange(0,read_labels_0.size):\n",
    "        if read_labels_0[i] == 0:\n",
    "            pol_cnt_c0_0_ra = pol_cnt_c0_0_ra + 1\n",
    "\n",
    "\n",
    "    if pol_cnt_c0_0_ra > pol_num_0_ra:\n",
    "        clus_0_ra = 0\n",
    "    else:\n",
    "        clus_0_ra = 1\n",
    "\n",
    "\n",
    "\n",
    "    for i in np.arange(0,read_labels_1.size):\n",
    "        if read_labels_1[i] == 0:\n",
    "            pol_cnt_c1_0_ra = pol_cnt_c1_0_ra + 1\n",
    "\n",
    "\n",
    "    if pol_cnt_c1_0_ra > pol_num_1_ra:\n",
    "        clus_1_ra = 0\n",
    "    else:\n",
    "        clus_1_ra = 1\n",
    "\n",
    "\n",
    "\n",
    "    \n",
    "    y_train_pred_ra = np.zeros(X_train.shape[0])\n",
    "\n",
    "    for i in np.arange(0,X_train.shape[0]):\n",
    "        if y_train_pred_cluster[i] == 0:\n",
    "            y_train_pred_ra[i] = clus_0_ra\n",
    "        else:\n",
    "            y_train_pred_ra[i] = clus_1_ra\n",
    "\n",
    "    y_train_pred_ra = y_train_pred_ra.astype(int)\n",
    "    \n",
    "    \n",
    "    \n",
    "    \n",
    "    \n",
    "    \n",
    "    \n",
    "    \n",
    "    y_test_pred_ra = np.zeros(X_test.shape[0])\n",
    "    for i in np.arange(0,X_test.shape[0]):\n",
    "        if y_test_pred_cluster[i] == 0:\n",
    "            y_test_pred_ra[i] = clus_0_ra\n",
    "        else:\n",
    "            y_test_pred_ra[i] = clus_1_ra\n",
    "\n",
    "    y_test_pred_ra = y_test_pred_ra.astype(int)\n",
    "    \n",
    "    # _ra everywhere to ensure distinction and localisation to this ROC and AUC section\n",
    "    # this avoids any variable conflicts\n",
    "    \n",
    "    \n",
    "    confusion_matrix_train_ra = confusion_matrix(y_train,y_train_pred_ra)\n",
    "    ROC_df.iloc[ra,0] = confusion_matrix_train_ra[0][1]/(confusion_matrix_train_ra[0][1]+confusion_matrix_train_ra[0][0])\n",
    "    ROC_df.iloc[ra,1] = confusion_matrix_train_ra[1][1]/(confusion_matrix_train_ra[1][1]+confusion_matrix_train_ra[1][0])\n",
    "    \n",
    "    \n",
    "    confusion_matrix_test_ra = confusion_matrix(y_test,y_test_pred_ra)\n",
    "    ROC_df_test.iloc[ra,0] = confusion_matrix_test_ra[0][1]/(confusion_matrix_test_ra[0][1]+confusion_matrix_test_ra[0][0])\n",
    "    ROC_df_test.iloc[ra,1] = confusion_matrix_test_ra[1][1]/(confusion_matrix_test_ra[1][1]+confusion_matrix_test_ra[1][0])\n",
    "\n",
    "    \n",
    "\n",
    "\n",
    "    \n",
    "print(ROC_df)\n",
    "print(ROC_df_test)"
   ]
  },
  {
   "cell_type": "code",
   "execution_count": 639,
   "metadata": {},
   "outputs": [
    {
     "data": {
      "text/plain": [
       "Text(0, 0.5, 'TPR for Train')"
      ]
     },
     "execution_count": 639,
     "metadata": {},
     "output_type": "execute_result"
    },
    {
     "data": {
      "image/png": "[encoded data removed]",
      "text/plain": [
       "<Figure size 432x288 with 1 Axes>"
      ]
     },
     "metadata": {
      "needs_background": "light"
     },
     "output_type": "display_data"
    }
   ],
   "source": [
    "import matplotlib.pyplot as plt\n",
    "plt.plot(ROC_df['FPR'],ROC_df['TPR'])\n",
    "plt.xlim(0, 1)\n",
    "plt.ylim(0, 1)\n",
    "plt.xlabel('FPR for Train')\n",
    "plt.ylabel('TPR for Train')"
   ]
  },
  {
   "cell_type": "code",
   "execution_count": 640,
   "metadata": {},
   "outputs": [
    {
     "data": {
      "text/plain": [
       "Text(0, 0.5, 'TPR for Test')"
      ]
     },
     "execution_count": 640,
     "metadata": {},
     "output_type": "execute_result"
    },
    {
     "data": {
      "image/png": "[encoded data removed]",
      "text/plain": [
       "<Figure size 432x288 with 1 Axes>"
      ]
     },
     "metadata": {
      "needs_background": "light"
     },
     "output_type": "display_data"
    }
   ],
   "source": [
    "plt.plot(ROC_df_test['FPR'],ROC_df_test['TPR'])\n",
    "plt.xlim(0, 1)\n",
    "plt.ylim(0, 1)\n",
    "plt.xlabel('FPR for Test')\n",
    "plt.ylabel('TPR for Test')"
   ]
  },
  {
   "cell_type": "code",
   "execution_count": 641,
   "metadata": {},
   "outputs": [
    {
     "name": "stdout",
     "output_type": "stream",
     "text": [
      "The AUC for train is : \n",
      " 0.8509706218208242\n"
     ]
    }
   ],
   "source": [
    "from sklearn import metrics\n",
    "\n",
    "AUC_train = metrics.auc(ROC_df['FPR'],ROC_df['TPR'])\n",
    "print('The AUC for train is : \\n',AUC_train)"
   ]
  },
  {
   "cell_type": "code",
   "execution_count": 642,
   "metadata": {},
   "outputs": [
    {
     "name": "stdout",
     "output_type": "stream",
     "text": [
      "The AUC for test is : \n",
      " 0.7953811369509045\n"
     ]
    }
   ],
   "source": [
    "AUC_test = metrics.auc(ROC_df_test['FPR'],ROC_df_test['TPR'])\n",
    "print('The AUC for test is : \\n',AUC_test)"
   ]
  },
  {
   "cell_type": "markdown",
   "metadata": {},
   "source": [
    "All this, again, exactly like Unsupervised Test, except that data has been once whole normalized"
   ]
  }
 ],
 "metadata": {
  "kernelspec": {
   "display_name": "Python 3",
   "language": "python",
   "name": "python3"
  },
  "language_info": {
   "codemirror_mode": {
    "name": "ipython",
    "version": 3
   },
   "file_extension": ".py",
   "mimetype": "text/x-python",
   "name": "python",
   "nbconvert_exporter": "python",
   "pygments_lexer": "ipython3",
   "version": "3.7.6"
  }
 },
 "nbformat": 4,
 "nbformat_minor": 4
}
